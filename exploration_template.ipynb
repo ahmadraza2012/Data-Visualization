{
 "cells": [
  {
   "cell_type": "markdown",
   "metadata": {
    "slideshow": {
     "slide_type": "slide"
    }
   },
   "source": [
    "# Bay Wheels Ride Data Exploration & Visualization\n",
    "## by (Muhammad Ahmad Raza)\n",
    "\n",
    "## Introduction\n",
    "> [Bay Wheels](https://www.lyft.com/bikes/bay-wheels) is a regional public bicycle sharing system in California's San Francisco Bay Area. It is operated by Motivate in a partnership with the Metropolitan Transportation Commission and the Bay Area Air Quality Management District.Bay Wheels is the first regional and large-scale bicycle sharing system deployed in California and on the West Coast of the United States. It was established as Bay Area Bike Share in August 2013. As of January 2018, the Bay Wheels system had over 2,600 bicycles in 262 stations across San Francisco, East Bay and San Jose. **Source** [wikipedia](https://en.wikipedia.org/wiki/Bay_Wheels)"
   ]
  },
  {
   "cell_type": "markdown",
   "metadata": {
    "slideshow": {
     "slide_type": "skip"
    }
   },
   "source": [
    "## Preliminary Wrangling\n"
   ]
  },
  {
   "cell_type": "code",
   "execution_count": 11,
   "metadata": {
    "slideshow": {
     "slide_type": "skip"
    }
   },
   "outputs": [],
   "source": [
    "# import all packages and set plots to be embedded inline\n",
    "import numpy as np\n",
    "import pandas as pd\n",
    "import matplotlib.pyplot as plt\n",
    "import seaborn as sb\n",
    "\n",
    "import os\n",
    "import glob\n",
    "import zipfile\n",
    "\n",
    "%matplotlib inline"
   ]
  },
  {
   "cell_type": "markdown",
   "metadata": {
    "slideshow": {
     "slide_type": "skip"
    }
   },
   "source": [
    "> Load in your dataset and describe its properties through the questions below.\n",
    "Try and motivate your exploration goals through this section."
   ]
  },
  {
   "cell_type": "code",
   "execution_count": 69,
   "metadata": {
    "slideshow": {
     "slide_type": "skip"
    }
   },
   "outputs": [
    {
     "name": "stdout",
     "output_type": "stream",
     "text": [
      "['data/201807-fordgobike-tripdata.csv.zip', 'data/201804-fordgobike-tripdata.csv.zip', 'data/201803-fordgobike-tripdata.csv.zip', 'data/201811-fordgobike-tripdata.csv.zip', 'data/201808-fordgobike-tripdata.csv.zip', 'data/201805-fordgobike-tripdata.csv.zip', 'data/201809-fordgobike-tripdata.csv.zip', 'data/201810-fordgobike-tripdata.csv.zip', 'data/201802-fordgobike-tripdata.csv.zip', 'data/201801-fordgobike-tripdata.csv.zip', 'data/201812-fordgobike-tripdata.csv.zip', 'data/201806-fordgobike-tripdata.csv.zip']\n",
      "-------------------\n",
      "data/201807-fordgobike-tripdata.csv.zip\n",
      "201807-fordgobike-tripdata.csv\n",
      "-------------------\n",
      "data/201804-fordgobike-tripdata.csv.zip\n",
      "201804-fordgobike-tripdata.csv\n",
      "-------------------\n",
      "data/201803-fordgobike-tripdata.csv.zip\n",
      "201803-fordgobike-tripdata.csv\n",
      "-------------------\n",
      "data/201811-fordgobike-tripdata.csv.zip\n",
      "201811-fordgobike-tripdata.csv\n",
      "-------------------\n",
      "data/201808-fordgobike-tripdata.csv.zip\n",
      "201808-fordgobike-tripdata.csv\n",
      "-------------------\n",
      "data/201805-fordgobike-tripdata.csv.zip\n",
      "201805-fordgobike-tripdata.csv\n",
      "-------------------\n",
      "data/201809-fordgobike-tripdata.csv.zip\n",
      "201809-fordgobike-tripdata.csv\n",
      "-------------------\n",
      "data/201810-fordgobike-tripdata.csv.zip\n",
      "201810-fordgobike-tripdata.csv\n",
      "-------------------\n",
      "data/201802-fordgobike-tripdata.csv.zip\n",
      "201802-fordgobike-tripdata.csv\n",
      "-------------------\n",
      "data/201801-fordgobike-tripdata.csv.zip\n",
      "201801-fordgobike-tripdata.csv\n",
      "-------------------\n",
      "data/201812-fordgobike-tripdata.csv.zip\n",
      "201812-fordgobike-tripdata.csv\n",
      "-------------------\n",
      "data/201806-fordgobike-tripdata.csv.zip\n",
      "201806-fordgobike-tripdata.csv\n"
     ]
    }
   ],
   "source": [
    "# Extract csv files from zip files and move into new folder called unzip\n",
    "files = glob.glob(os.path.join('data', '2018*.csv.zip'))\n",
    "for file in files:\n",
    "    with zipfile.ZipFile(file, 'r') as zipObj:\n",
    "        print(\"-------------------\")\n",
    "        print(file)\n",
    "        listOfFileNames = zipObj.namelist()\n",
    "        for fileName in listOfFileNames:\n",
    "           # Check filename endswith csv\n",
    "           if fileName.endswith('.csv'):\n",
    "               # Extract a single file from zip\n",
    "                print(fileName)\n",
    "                zipObj.extract(fileName, 'unzip')\n"
   ]
  },
  {
   "cell_type": "code",
   "execution_count": 72,
   "metadata": {
    "scrolled": true,
    "slideshow": {
     "slide_type": "slide"
    }
   },
   "outputs": [
    {
     "name": "stdout",
     "output_type": "stream",
     "text": [
      "path is {0} unzip/*.csv\n",
      "(1863721, 14)\n"
     ]
    },
    {
     "data": {
      "text/html": [
       "<div>\n",
       "<style scoped>\n",
       "    .dataframe tbody tr th:only-of-type {\n",
       "        vertical-align: middle;\n",
       "    }\n",
       "\n",
       "    .dataframe tbody tr th {\n",
       "        vertical-align: top;\n",
       "    }\n",
       "\n",
       "    .dataframe thead th {\n",
       "        text-align: right;\n",
       "    }\n",
       "</style>\n",
       "<table border=\"1\" class=\"dataframe\">\n",
       "  <thead>\n",
       "    <tr style=\"text-align: right;\">\n",
       "      <th></th>\n",
       "      <th>duration_sec</th>\n",
       "      <th>start_time</th>\n",
       "      <th>end_time</th>\n",
       "      <th>start_station_id</th>\n",
       "      <th>start_station_name</th>\n",
       "      <th>start_station_latitude</th>\n",
       "      <th>start_station_longitude</th>\n",
       "      <th>end_station_id</th>\n",
       "      <th>end_station_name</th>\n",
       "      <th>end_station_latitude</th>\n",
       "      <th>end_station_longitude</th>\n",
       "      <th>bike_id</th>\n",
       "      <th>user_type</th>\n",
       "      <th>bike_share_for_all_trip</th>\n",
       "    </tr>\n",
       "  </thead>\n",
       "  <tbody>\n",
       "    <tr>\n",
       "      <th>1055225</th>\n",
       "      <td>1741</td>\n",
       "      <td>2018-12-04 07:58:46.1080</td>\n",
       "      <td>2018-12-04 08:27:48.0100</td>\n",
       "      <td>19.0</td>\n",
       "      <td>Post St at Kearny St</td>\n",
       "      <td>37.788975</td>\n",
       "      <td>-122.403452</td>\n",
       "      <td>104.0</td>\n",
       "      <td>4th St at 16th St</td>\n",
       "      <td>37.767045</td>\n",
       "      <td>-122.390833</td>\n",
       "      <td>3355</td>\n",
       "      <td>Subscriber</td>\n",
       "      <td>No</td>\n",
       "    </tr>\n",
       "    <tr>\n",
       "      <th>1820075</th>\n",
       "      <td>538</td>\n",
       "      <td>2018-04-11 17:55:02.5070</td>\n",
       "      <td>2018-04-11 18:04:00.6990</td>\n",
       "      <td>187.0</td>\n",
       "      <td>Jack London Square</td>\n",
       "      <td>37.796248</td>\n",
       "      <td>-122.279352</td>\n",
       "      <td>183.0</td>\n",
       "      <td>Telegraph Ave at 19th St</td>\n",
       "      <td>37.808702</td>\n",
       "      <td>-122.269927</td>\n",
       "      <td>1585</td>\n",
       "      <td>Subscriber</td>\n",
       "      <td>No</td>\n",
       "    </tr>\n",
       "    <tr>\n",
       "      <th>1304877</th>\n",
       "      <td>1649</td>\n",
       "      <td>2018-08-08 18:31:23.5280</td>\n",
       "      <td>2018-08-08 18:58:53.3270</td>\n",
       "      <td>3.0</td>\n",
       "      <td>Powell St BART Station (Market St at 4th St)</td>\n",
       "      <td>37.786375</td>\n",
       "      <td>-122.404904</td>\n",
       "      <td>39.0</td>\n",
       "      <td>Scott St at Golden Gate Ave</td>\n",
       "      <td>37.778999</td>\n",
       "      <td>-122.436861</td>\n",
       "      <td>2645</td>\n",
       "      <td>Customer</td>\n",
       "      <td>No</td>\n",
       "    </tr>\n",
       "    <tr>\n",
       "      <th>659775</th>\n",
       "      <td>686</td>\n",
       "      <td>2018-03-23 07:41:51.5280</td>\n",
       "      <td>2018-03-23 07:53:18.1890</td>\n",
       "      <td>56.0</td>\n",
       "      <td>Koshland Park</td>\n",
       "      <td>37.773414</td>\n",
       "      <td>-122.427317</td>\n",
       "      <td>67.0</td>\n",
       "      <td>San Francisco Caltrain Station 2  (Townsend St...</td>\n",
       "      <td>37.776639</td>\n",
       "      <td>-122.395526</td>\n",
       "      <td>3133</td>\n",
       "      <td>Subscriber</td>\n",
       "      <td>No</td>\n",
       "    </tr>\n",
       "    <tr>\n",
       "      <th>1536456</th>\n",
       "      <td>1104</td>\n",
       "      <td>2018-07-31 16:06:20.4670</td>\n",
       "      <td>2018-07-31 16:24:45.4300</td>\n",
       "      <td>102.0</td>\n",
       "      <td>Irwin St at 8th St</td>\n",
       "      <td>37.766883</td>\n",
       "      <td>-122.399579</td>\n",
       "      <td>223.0</td>\n",
       "      <td>16th St Mission BART Station 2</td>\n",
       "      <td>37.764765</td>\n",
       "      <td>-122.420091</td>\n",
       "      <td>1221</td>\n",
       "      <td>Subscriber</td>\n",
       "      <td>Yes</td>\n",
       "    </tr>\n",
       "  </tbody>\n",
       "</table>\n",
       "</div>"
      ],
      "text/plain": [
       "         duration_sec                start_time                  end_time  \\\n",
       "1055225          1741  2018-12-04 07:58:46.1080  2018-12-04 08:27:48.0100   \n",
       "1820075           538  2018-04-11 17:55:02.5070  2018-04-11 18:04:00.6990   \n",
       "1304877          1649  2018-08-08 18:31:23.5280  2018-08-08 18:58:53.3270   \n",
       "659775            686  2018-03-23 07:41:51.5280  2018-03-23 07:53:18.1890   \n",
       "1536456          1104  2018-07-31 16:06:20.4670  2018-07-31 16:24:45.4300   \n",
       "\n",
       "         start_station_id                            start_station_name  \\\n",
       "1055225              19.0                          Post St at Kearny St   \n",
       "1820075             187.0                            Jack London Square   \n",
       "1304877               3.0  Powell St BART Station (Market St at 4th St)   \n",
       "659775               56.0                                 Koshland Park   \n",
       "1536456             102.0                            Irwin St at 8th St   \n",
       "\n",
       "         start_station_latitude  start_station_longitude  end_station_id  \\\n",
       "1055225               37.788975              -122.403452           104.0   \n",
       "1820075               37.796248              -122.279352           183.0   \n",
       "1304877               37.786375              -122.404904            39.0   \n",
       "659775                37.773414              -122.427317            67.0   \n",
       "1536456               37.766883              -122.399579           223.0   \n",
       "\n",
       "                                          end_station_name  \\\n",
       "1055225                                  4th St at 16th St   \n",
       "1820075                           Telegraph Ave at 19th St   \n",
       "1304877                        Scott St at Golden Gate Ave   \n",
       "659775   San Francisco Caltrain Station 2  (Townsend St...   \n",
       "1536456                     16th St Mission BART Station 2   \n",
       "\n",
       "         end_station_latitude  end_station_longitude  bike_id   user_type  \\\n",
       "1055225             37.767045            -122.390833     3355  Subscriber   \n",
       "1820075             37.808702            -122.269927     1585  Subscriber   \n",
       "1304877             37.778999            -122.436861     2645    Customer   \n",
       "659775              37.776639            -122.395526     3133  Subscriber   \n",
       "1536456             37.764765            -122.420091     1221  Subscriber   \n",
       "\n",
       "        bike_share_for_all_trip  \n",
       "1055225                      No  \n",
       "1820075                      No  \n",
       "1304877                      No  \n",
       "659775                       No  \n",
       "1536456                     Yes  "
      ]
     },
     "execution_count": 72,
     "metadata": {},
     "output_type": "execute_result"
    }
   ],
   "source": [
    "# Read files from Unziped data Folder now.\n",
    "folder_name = 'unzip'\n",
    "print(\"path is {0}\", os.path.join(folder_name, '*.csv'))\n",
    "dataframes = [pd.read_csv(file) for file in glob.glob(os.path.join(folder_name, '*.csv'))]\n",
    "df = pd.concat(dataframes, ignore_index=True)\n",
    "print(df.shape)\n",
    "df.sample(5)"
   ]
  },
  {
   "cell_type": "code",
   "execution_count": 133,
   "metadata": {
    "slideshow": {
     "slide_type": "skip"
    }
   },
   "outputs": [],
   "source": [
    "# Save Data into new csv for further use.\n",
    "df.to_csv('2018-fordgobike-tripdata.csv', index=False)"
   ]
  },
  {
   "cell_type": "markdown",
   "metadata": {
    "slideshow": {
     "slide_type": "skip"
    }
   },
   "source": []
  },
  {
   "cell_type": "code",
   "execution_count": 74,
   "metadata": {
    "slideshow": {
     "slide_type": "skip"
    }
   },
   "outputs": [
    {
     "name": "stdout",
     "output_type": "stream",
     "text": [
      "<class 'pandas.core.frame.DataFrame'>\n",
      "RangeIndex: 1863721 entries, 0 to 1863720\n",
      "Data columns (total 14 columns):\n",
      " #   Column                   Dtype  \n",
      "---  ------                   -----  \n",
      " 0   duration_sec             int64  \n",
      " 1   start_time               object \n",
      " 2   end_time                 object \n",
      " 3   start_station_id         float64\n",
      " 4   start_station_name       object \n",
      " 5   start_station_latitude   float64\n",
      " 6   start_station_longitude  float64\n",
      " 7   end_station_id           float64\n",
      " 8   end_station_name         object \n",
      " 9   end_station_latitude     float64\n",
      " 10  end_station_longitude    float64\n",
      " 11  bike_id                  int64  \n",
      " 12  user_type                object \n",
      " 13  bike_share_for_all_trip  object \n",
      "dtypes: float64(6), int64(2), object(6)\n",
      "memory usage: 199.1+ MB\n"
     ]
    }
   ],
   "source": [
    "df.info()"
   ]
  },
  {
   "cell_type": "markdown",
   "metadata": {
    "slideshow": {
     "slide_type": "skip"
    }
   },
   "source": [
    "### Assess Data"
   ]
  },
  {
   "cell_type": "code",
   "execution_count": 75,
   "metadata": {
    "slideshow": {
     "slide_type": "skip"
    }
   },
   "outputs": [
    {
     "data": {
      "text/plain": [
       "duration_sec                   0\n",
       "start_time                     0\n",
       "end_time                       0\n",
       "start_station_id           11771\n",
       "start_station_name         11771\n",
       "start_station_latitude         0\n",
       "start_station_longitude        0\n",
       "end_station_id             11771\n",
       "end_station_name           11771\n",
       "end_station_latitude           0\n",
       "end_station_longitude          0\n",
       "bike_id                        0\n",
       "user_type                      0\n",
       "bike_share_for_all_trip        0\n",
       "dtype: int64"
      ]
     },
     "execution_count": 75,
     "metadata": {},
     "output_type": "execute_result"
    }
   ],
   "source": [
    "df.isnull().sum()"
   ]
  },
  {
   "cell_type": "code",
   "execution_count": 76,
   "metadata": {
    "slideshow": {
     "slide_type": "skip"
    }
   },
   "outputs": [
    {
     "data": {
      "text/plain": [
       "0"
      ]
     },
     "execution_count": 76,
     "metadata": {},
     "output_type": "execute_result"
    }
   ],
   "source": [
    "df.duplicated().sum()"
   ]
  },
  {
   "cell_type": "code",
   "execution_count": 78,
   "metadata": {
    "slideshow": {
     "slide_type": "skip"
    }
   },
   "outputs": [
    {
     "data": {
      "text/plain": [
       "Subscriber    1583554\n",
       "Customer       280167\n",
       "Name: user_type, dtype: int64"
      ]
     },
     "execution_count": 78,
     "metadata": {},
     "output_type": "execute_result"
    }
   ],
   "source": [
    "df.user_type.value_counts()"
   ]
  },
  {
   "cell_type": "code",
   "execution_count": 79,
   "metadata": {
    "slideshow": {
     "slide_type": "skip"
    }
   },
   "outputs": [
    {
     "data": {
      "text/plain": [
       "No     1701386\n",
       "Yes     162335\n",
       "Name: bike_share_for_all_trip, dtype: int64"
      ]
     },
     "execution_count": 79,
     "metadata": {},
     "output_type": "execute_result"
    }
   ],
   "source": [
    "df.bike_share_for_all_trip.value_counts()"
   ]
  },
  {
   "cell_type": "markdown",
   "metadata": {
    "slideshow": {
     "slide_type": "slide"
    }
   },
   "source": [
    "#### Observation from Assessment of Data:\n",
    "- start_time and endtime must be datetime objects.\n",
    "- start_station_id and end_station_id must be string obects.\n",
    "- start_station_id and end_station_id are ending with extra .0\n",
    "- DataType for user_type and bike_share_for_all_trip should be Category."
   ]
  },
  {
   "cell_type": "markdown",
   "metadata": {
    "slideshow": {
     "slide_type": "skip"
    }
   },
   "source": [
    "### Cleaning Data"
   ]
  },
  {
   "cell_type": "code",
   "execution_count": 80,
   "metadata": {
    "slideshow": {
     "slide_type": "skip"
    }
   },
   "outputs": [],
   "source": [
    "# Create a new copy from the data for cleaning.\n",
    "df_clean = df.copy()"
   ]
  },
  {
   "cell_type": "code",
   "execution_count": 84,
   "metadata": {
    "slideshow": {
     "slide_type": "skip"
    }
   },
   "outputs": [
    {
     "name": "stdout",
     "output_type": "stream",
     "text": [
      "<class 'pandas.core.frame.DataFrame'>\n",
      "RangeIndex: 1863721 entries, 0 to 1863720\n",
      "Data columns (total 14 columns):\n",
      " #   Column                   Non-Null Count    Dtype         \n",
      "---  ------                   --------------    -----         \n",
      " 0   duration_sec             1863721 non-null  int64         \n",
      " 1   start_time               1863721 non-null  datetime64[ns]\n",
      " 2   end_time                 1863721 non-null  datetime64[ns]\n",
      " 3   start_station_id         1863719 non-null  object        \n",
      " 4   start_station_name       1851950 non-null  object        \n",
      " 5   start_station_latitude   1863721 non-null  float64       \n",
      " 6   start_station_longitude  1863721 non-null  float64       \n",
      " 7   end_station_id           1863719 non-null  object        \n",
      " 8   end_station_name         1851950 non-null  object        \n",
      " 9   end_station_latitude     1863721 non-null  float64       \n",
      " 10  end_station_longitude    1863721 non-null  float64       \n",
      " 11  bike_id                  1863721 non-null  object        \n",
      " 12  user_type                1863721 non-null  category      \n",
      " 13  bike_share_for_all_trip  1863721 non-null  object        \n",
      "dtypes: category(1), datetime64[ns](2), float64(4), int64(1), object(6)\n",
      "memory usage: 186.6+ MB\n"
     ]
    }
   ],
   "source": [
    "# Convert inaccurate datatypes to accurate one, mentioned above.\n",
    "df_clean['start_time'] = pd.to_datetime(df_clean['start_time'])\n",
    "df_clean['end_time'] = pd.to_datetime(df_clean['end_time'])\n",
    "\n",
    "df_clean['start_station_id'] = df_clean['start_station_id'].astype('str')\n",
    "df_clean['end_station_id'] = df_clean['end_station_id'].astype('str')\n",
    "df_clean['bike_id'] = df_clean['bike_id'].astype('str')\n",
    "\n",
    "df_clean['user_type'] = df_clean['user_type'].astype('category')\n",
    "\n",
    "df_clean.info(null_counts=True)"
   ]
  },
  {
   "cell_type": "code",
   "execution_count": 85,
   "metadata": {
    "slideshow": {
     "slide_type": "skip"
    }
   },
   "outputs": [
    {
     "data": {
      "text/html": [
       "<div>\n",
       "<style scoped>\n",
       "    .dataframe tbody tr th:only-of-type {\n",
       "        vertical-align: middle;\n",
       "    }\n",
       "\n",
       "    .dataframe tbody tr th {\n",
       "        vertical-align: top;\n",
       "    }\n",
       "\n",
       "    .dataframe thead th {\n",
       "        text-align: right;\n",
       "    }\n",
       "</style>\n",
       "<table border=\"1\" class=\"dataframe\">\n",
       "  <thead>\n",
       "    <tr style=\"text-align: right;\">\n",
       "      <th></th>\n",
       "      <th>duration_sec</th>\n",
       "      <th>start_time</th>\n",
       "      <th>end_time</th>\n",
       "      <th>start_station_id</th>\n",
       "      <th>start_station_name</th>\n",
       "      <th>start_station_latitude</th>\n",
       "      <th>start_station_longitude</th>\n",
       "      <th>end_station_id</th>\n",
       "      <th>end_station_name</th>\n",
       "      <th>end_station_latitude</th>\n",
       "      <th>end_station_longitude</th>\n",
       "      <th>bike_id</th>\n",
       "      <th>user_type</th>\n",
       "      <th>bike_share_for_all_trip</th>\n",
       "    </tr>\n",
       "  </thead>\n",
       "  <tbody>\n",
       "    <tr>\n",
       "      <th>0</th>\n",
       "      <td>598</td>\n",
       "      <td>2018-02-28 23:59:47.097</td>\n",
       "      <td>2018-03-01 00:09:45.187</td>\n",
       "      <td>284.0</td>\n",
       "      <td>Yerba Buena Center for the Arts (Howard St at ...</td>\n",
       "      <td>37.784872</td>\n",
       "      <td>-122.400876</td>\n",
       "      <td>114.0</td>\n",
       "      <td>Rhode Island St at 17th St</td>\n",
       "      <td>37.764478</td>\n",
       "      <td>-122.402570</td>\n",
       "      <td>1035</td>\n",
       "      <td>Subscriber</td>\n",
       "      <td>No</td>\n",
       "    </tr>\n",
       "    <tr>\n",
       "      <th>1</th>\n",
       "      <td>943</td>\n",
       "      <td>2018-02-28 23:21:16.495</td>\n",
       "      <td>2018-02-28 23:36:59.974</td>\n",
       "      <td>6.0</td>\n",
       "      <td>The Embarcadero at Sansome St</td>\n",
       "      <td>37.804770</td>\n",
       "      <td>-122.403234</td>\n",
       "      <td>324.0</td>\n",
       "      <td>Union Square (Powell St at Post St)</td>\n",
       "      <td>37.788300</td>\n",
       "      <td>-122.408531</td>\n",
       "      <td>1673</td>\n",
       "      <td>Customer</td>\n",
       "      <td>No</td>\n",
       "    </tr>\n",
       "    <tr>\n",
       "      <th>2</th>\n",
       "      <td>18587</td>\n",
       "      <td>2018-02-28 18:20:55.190</td>\n",
       "      <td>2018-02-28 23:30:42.925</td>\n",
       "      <td>93.0</td>\n",
       "      <td>4th St at Mission Bay Blvd S</td>\n",
       "      <td>37.770407</td>\n",
       "      <td>-122.391198</td>\n",
       "      <td>15.0</td>\n",
       "      <td>San Francisco Ferry Building (Harry Bridges Pl...</td>\n",
       "      <td>37.795392</td>\n",
       "      <td>-122.394203</td>\n",
       "      <td>3498</td>\n",
       "      <td>Customer</td>\n",
       "      <td>No</td>\n",
       "    </tr>\n",
       "    <tr>\n",
       "      <th>3</th>\n",
       "      <td>18558</td>\n",
       "      <td>2018-02-28 18:20:53.621</td>\n",
       "      <td>2018-02-28 23:30:12.450</td>\n",
       "      <td>93.0</td>\n",
       "      <td>4th St at Mission Bay Blvd S</td>\n",
       "      <td>37.770407</td>\n",
       "      <td>-122.391198</td>\n",
       "      <td>15.0</td>\n",
       "      <td>San Francisco Ferry Building (Harry Bridges Pl...</td>\n",
       "      <td>37.795392</td>\n",
       "      <td>-122.394203</td>\n",
       "      <td>3129</td>\n",
       "      <td>Customer</td>\n",
       "      <td>No</td>\n",
       "    </tr>\n",
       "    <tr>\n",
       "      <th>4</th>\n",
       "      <td>885</td>\n",
       "      <td>2018-02-28 23:15:12.858</td>\n",
       "      <td>2018-02-28 23:29:58.608</td>\n",
       "      <td>308.0</td>\n",
       "      <td>San Pedro Square</td>\n",
       "      <td>37.336802</td>\n",
       "      <td>-121.894090</td>\n",
       "      <td>297.0</td>\n",
       "      <td>Locust St at Grant St</td>\n",
       "      <td>37.322980</td>\n",
       "      <td>-121.887931</td>\n",
       "      <td>1839</td>\n",
       "      <td>Subscriber</td>\n",
       "      <td>Yes</td>\n",
       "    </tr>\n",
       "  </tbody>\n",
       "</table>\n",
       "</div>"
      ],
      "text/plain": [
       "   duration_sec              start_time                end_time  \\\n",
       "0           598 2018-02-28 23:59:47.097 2018-03-01 00:09:45.187   \n",
       "1           943 2018-02-28 23:21:16.495 2018-02-28 23:36:59.974   \n",
       "2         18587 2018-02-28 18:20:55.190 2018-02-28 23:30:42.925   \n",
       "3         18558 2018-02-28 18:20:53.621 2018-02-28 23:30:12.450   \n",
       "4           885 2018-02-28 23:15:12.858 2018-02-28 23:29:58.608   \n",
       "\n",
       "  start_station_id                                 start_station_name  \\\n",
       "0            284.0  Yerba Buena Center for the Arts (Howard St at ...   \n",
       "1              6.0                      The Embarcadero at Sansome St   \n",
       "2             93.0                       4th St at Mission Bay Blvd S   \n",
       "3             93.0                       4th St at Mission Bay Blvd S   \n",
       "4            308.0                                   San Pedro Square   \n",
       "\n",
       "   start_station_latitude  start_station_longitude end_station_id  \\\n",
       "0               37.784872              -122.400876          114.0   \n",
       "1               37.804770              -122.403234          324.0   \n",
       "2               37.770407              -122.391198           15.0   \n",
       "3               37.770407              -122.391198           15.0   \n",
       "4               37.336802              -121.894090          297.0   \n",
       "\n",
       "                                    end_station_name  end_station_latitude  \\\n",
       "0                         Rhode Island St at 17th St             37.764478   \n",
       "1                Union Square (Powell St at Post St)             37.788300   \n",
       "2  San Francisco Ferry Building (Harry Bridges Pl...             37.795392   \n",
       "3  San Francisco Ferry Building (Harry Bridges Pl...             37.795392   \n",
       "4                              Locust St at Grant St             37.322980   \n",
       "\n",
       "   end_station_longitude bike_id   user_type bike_share_for_all_trip  \n",
       "0            -122.402570    1035  Subscriber                      No  \n",
       "1            -122.408531    1673    Customer                      No  \n",
       "2            -122.394203    3498    Customer                      No  \n",
       "3            -122.394203    3129    Customer                      No  \n",
       "4            -121.887931    1839  Subscriber                     Yes  "
      ]
     },
     "execution_count": 85,
     "metadata": {},
     "output_type": "execute_result"
    }
   ],
   "source": [
    "df_clean.head()"
   ]
  },
  {
   "cell_type": "code",
   "execution_count": 89,
   "metadata": {
    "slideshow": {
     "slide_type": "skip"
    }
   },
   "outputs": [],
   "source": [
    "df_clean['start_station_id'] = df['start_station_id'].map(lambda x: str(x)[:-2])\n",
    "df_clean['end_station_id'] =  df['end_station_id'].map(lambda x: str(x)[:-2])"
   ]
  },
  {
   "cell_type": "code",
   "execution_count": 90,
   "metadata": {
    "slideshow": {
     "slide_type": "skip"
    }
   },
   "outputs": [
    {
     "data": {
      "text/plain": [
       "0    284\n",
       "1      6\n",
       "2     93\n",
       "3     93\n",
       "4    308\n",
       "Name: start_station_id, dtype: object"
      ]
     },
     "execution_count": 90,
     "metadata": {},
     "output_type": "execute_result"
    }
   ],
   "source": [
    "df_clean['start_station_id'].head()"
   ]
  },
  {
   "cell_type": "code",
   "execution_count": 91,
   "metadata": {
    "slideshow": {
     "slide_type": "skip"
    }
   },
   "outputs": [
    {
     "data": {
      "text/plain": [
       "0    114\n",
       "1    324\n",
       "2     15\n",
       "3     15\n",
       "4    297\n",
       "Name: end_station_id, dtype: object"
      ]
     },
     "execution_count": 91,
     "metadata": {},
     "output_type": "execute_result"
    }
   ],
   "source": [
    "df_clean['end_station_id'].head()"
   ]
  },
  {
   "cell_type": "code",
   "execution_count": 92,
   "metadata": {
    "slideshow": {
     "slide_type": "skip"
    }
   },
   "outputs": [
    {
     "name": "stdout",
     "output_type": "stream",
     "text": [
      "<class 'pandas.core.frame.DataFrame'>\n",
      "RangeIndex: 1863721 entries, 0 to 1863720\n",
      "Data columns (total 14 columns):\n",
      " #   Column                   Dtype         \n",
      "---  ------                   -----         \n",
      " 0   duration_sec             int64         \n",
      " 1   start_time               datetime64[ns]\n",
      " 2   end_time                 datetime64[ns]\n",
      " 3   start_station_id         object        \n",
      " 4   start_station_name       object        \n",
      " 5   start_station_latitude   float64       \n",
      " 6   start_station_longitude  float64       \n",
      " 7   end_station_id           object        \n",
      " 8   end_station_name         object        \n",
      " 9   end_station_latitude     float64       \n",
      " 10  end_station_longitude    float64       \n",
      " 11  bike_id                  object        \n",
      " 12  user_type                category      \n",
      " 13  bike_share_for_all_trip  object        \n",
      "dtypes: category(1), datetime64[ns](2), float64(4), int64(1), object(6)\n",
      "memory usage: 186.6+ MB\n"
     ]
    }
   ],
   "source": [
    "df_clean.info()"
   ]
  },
  {
   "cell_type": "code",
   "execution_count": 93,
   "metadata": {
    "slideshow": {
     "slide_type": "skip"
    }
   },
   "outputs": [
    {
     "data": {
      "text/html": [
       "<div>\n",
       "<style scoped>\n",
       "    .dataframe tbody tr th:only-of-type {\n",
       "        vertical-align: middle;\n",
       "    }\n",
       "\n",
       "    .dataframe tbody tr th {\n",
       "        vertical-align: top;\n",
       "    }\n",
       "\n",
       "    .dataframe thead th {\n",
       "        text-align: right;\n",
       "    }\n",
       "</style>\n",
       "<table border=\"1\" class=\"dataframe\">\n",
       "  <thead>\n",
       "    <tr style=\"text-align: right;\">\n",
       "      <th></th>\n",
       "      <th>duration_sec</th>\n",
       "      <th>start_time</th>\n",
       "      <th>end_time</th>\n",
       "      <th>start_station_id</th>\n",
       "      <th>start_station_name</th>\n",
       "      <th>start_station_latitude</th>\n",
       "      <th>start_station_longitude</th>\n",
       "      <th>end_station_id</th>\n",
       "      <th>end_station_name</th>\n",
       "      <th>end_station_latitude</th>\n",
       "      <th>end_station_longitude</th>\n",
       "      <th>bike_id</th>\n",
       "      <th>user_type</th>\n",
       "      <th>bike_share_for_all_trip</th>\n",
       "    </tr>\n",
       "  </thead>\n",
       "  <tbody>\n",
       "    <tr>\n",
       "      <th>1297328</th>\n",
       "      <td>828</td>\n",
       "      <td>2018-08-09 18:52:57.852</td>\n",
       "      <td>2018-08-09 19:06:46.408</td>\n",
       "      <td>22</td>\n",
       "      <td>Howard St at Beale St</td>\n",
       "      <td>37.789756</td>\n",
       "      <td>-122.394643</td>\n",
       "      <td>104</td>\n",
       "      <td>4th St at 16th St</td>\n",
       "      <td>37.767045</td>\n",
       "      <td>-122.390833</td>\n",
       "      <td>2816</td>\n",
       "      <td>Subscriber</td>\n",
       "      <td>No</td>\n",
       "    </tr>\n",
       "    <tr>\n",
       "      <th>146981</th>\n",
       "      <td>495</td>\n",
       "      <td>2018-09-24 19:04:05.103</td>\n",
       "      <td>2018-09-24 19:12:20.734</td>\n",
       "      <td>67</td>\n",
       "      <td>San Francisco Caltrain Station 2  (Townsend St...</td>\n",
       "      <td>37.776639</td>\n",
       "      <td>-122.395526</td>\n",
       "      <td>15</td>\n",
       "      <td>San Francisco Ferry Building (Harry Bridges Pl...</td>\n",
       "      <td>37.795392</td>\n",
       "      <td>-122.394203</td>\n",
       "      <td>292</td>\n",
       "      <td>Subscriber</td>\n",
       "      <td>No</td>\n",
       "    </tr>\n",
       "    <tr>\n",
       "      <th>1310612</th>\n",
       "      <td>593</td>\n",
       "      <td>2018-08-08 07:39:09.316</td>\n",
       "      <td>2018-08-08 07:49:02.466</td>\n",
       "      <td>28</td>\n",
       "      <td>The Embarcadero at Bryant St</td>\n",
       "      <td>37.787168</td>\n",
       "      <td>-122.388098</td>\n",
       "      <td>6</td>\n",
       "      <td>The Embarcadero at Sansome St</td>\n",
       "      <td>37.804770</td>\n",
       "      <td>-122.403234</td>\n",
       "      <td>2633</td>\n",
       "      <td>Subscriber</td>\n",
       "      <td>No</td>\n",
       "    </tr>\n",
       "    <tr>\n",
       "      <th>107359</th>\n",
       "      <td>455</td>\n",
       "      <td>2018-09-30 19:02:12.130</td>\n",
       "      <td>2018-09-30 19:09:47.954</td>\n",
       "      <td>95</td>\n",
       "      <td>Sanchez St at 15th St</td>\n",
       "      <td>37.766219</td>\n",
       "      <td>-122.431060</td>\n",
       "      <td>59</td>\n",
       "      <td>S Van Ness Ave at Market St</td>\n",
       "      <td>37.774814</td>\n",
       "      <td>-122.418954</td>\n",
       "      <td>3619</td>\n",
       "      <td>Subscriber</td>\n",
       "      <td>No</td>\n",
       "    </tr>\n",
       "    <tr>\n",
       "      <th>340999</th>\n",
       "      <td>529</td>\n",
       "      <td>2018-11-16 08:38:59.616</td>\n",
       "      <td>2018-11-16 08:47:48.774</td>\n",
       "      <td>120</td>\n",
       "      <td>Mission Dolores Park</td>\n",
       "      <td>37.761420</td>\n",
       "      <td>-122.426435</td>\n",
       "      <td>141</td>\n",
       "      <td>Valencia St at Cesar Chavez St</td>\n",
       "      <td>37.747998</td>\n",
       "      <td>-122.420219</td>\n",
       "      <td>3325</td>\n",
       "      <td>Subscriber</td>\n",
       "      <td>No</td>\n",
       "    </tr>\n",
       "    <tr>\n",
       "      <th>1318968</th>\n",
       "      <td>1017</td>\n",
       "      <td>2018-08-06 19:56:03.714</td>\n",
       "      <td>2018-08-06 20:13:01.362</td>\n",
       "      <td>180</td>\n",
       "      <td>Telegraph Ave at 23rd St</td>\n",
       "      <td>37.812678</td>\n",
       "      <td>-122.268773</td>\n",
       "      <td>233</td>\n",
       "      <td>E 12th St at 4th Ave</td>\n",
       "      <td>37.795812</td>\n",
       "      <td>-122.255555</td>\n",
       "      <td>3316</td>\n",
       "      <td>Customer</td>\n",
       "      <td>No</td>\n",
       "    </tr>\n",
       "    <tr>\n",
       "      <th>669787</th>\n",
       "      <td>570</td>\n",
       "      <td>2018-03-20 09:31:14.179</td>\n",
       "      <td>2018-03-20 09:40:45.093</td>\n",
       "      <td>30</td>\n",
       "      <td>San Francisco Caltrain (Townsend St at 4th St)</td>\n",
       "      <td>37.776598</td>\n",
       "      <td>-122.395282</td>\n",
       "      <td>22</td>\n",
       "      <td>Howard St at Beale St</td>\n",
       "      <td>37.789756</td>\n",
       "      <td>-122.394643</td>\n",
       "      <td>3146</td>\n",
       "      <td>Subscriber</td>\n",
       "      <td>No</td>\n",
       "    </tr>\n",
       "    <tr>\n",
       "      <th>1819083</th>\n",
       "      <td>878</td>\n",
       "      <td>2018-04-12 07:42:18.557</td>\n",
       "      <td>2018-04-12 07:56:57.258</td>\n",
       "      <td>74</td>\n",
       "      <td>Laguna St at Hayes St</td>\n",
       "      <td>37.776435</td>\n",
       "      <td>-122.426244</td>\n",
       "      <td>102</td>\n",
       "      <td>Irwin St at 8th St</td>\n",
       "      <td>37.766883</td>\n",
       "      <td>-122.399579</td>\n",
       "      <td>720</td>\n",
       "      <td>Subscriber</td>\n",
       "      <td>No</td>\n",
       "    </tr>\n",
       "    <tr>\n",
       "      <th>1003884</th>\n",
       "      <td>1307</td>\n",
       "      <td>2018-12-14 06:22:58.982</td>\n",
       "      <td>2018-12-14 06:44:46.540</td>\n",
       "      <td>16</td>\n",
       "      <td>Steuart St at Market St</td>\n",
       "      <td>37.794130</td>\n",
       "      <td>-122.394430</td>\n",
       "      <td>16</td>\n",
       "      <td>Steuart St at Market St</td>\n",
       "      <td>37.794130</td>\n",
       "      <td>-122.394430</td>\n",
       "      <td>2779</td>\n",
       "      <td>Customer</td>\n",
       "      <td>No</td>\n",
       "    </tr>\n",
       "    <tr>\n",
       "      <th>160907</th>\n",
       "      <td>48425</td>\n",
       "      <td>2018-09-21 17:53:39.887</td>\n",
       "      <td>2018-09-22 07:20:45.659</td>\n",
       "      <td>21</td>\n",
       "      <td>Montgomery St BART Station (Market St at 2nd St)</td>\n",
       "      <td>37.789625</td>\n",
       "      <td>-122.400811</td>\n",
       "      <td>50</td>\n",
       "      <td>2nd St at Townsend St</td>\n",
       "      <td>37.780526</td>\n",
       "      <td>-122.390288</td>\n",
       "      <td>1012</td>\n",
       "      <td>Customer</td>\n",
       "      <td>No</td>\n",
       "    </tr>\n",
       "  </tbody>\n",
       "</table>\n",
       "</div>"
      ],
      "text/plain": [
       "         duration_sec              start_time                end_time  \\\n",
       "1297328           828 2018-08-09 18:52:57.852 2018-08-09 19:06:46.408   \n",
       "146981            495 2018-09-24 19:04:05.103 2018-09-24 19:12:20.734   \n",
       "1310612           593 2018-08-08 07:39:09.316 2018-08-08 07:49:02.466   \n",
       "107359            455 2018-09-30 19:02:12.130 2018-09-30 19:09:47.954   \n",
       "340999            529 2018-11-16 08:38:59.616 2018-11-16 08:47:48.774   \n",
       "1318968          1017 2018-08-06 19:56:03.714 2018-08-06 20:13:01.362   \n",
       "669787            570 2018-03-20 09:31:14.179 2018-03-20 09:40:45.093   \n",
       "1819083           878 2018-04-12 07:42:18.557 2018-04-12 07:56:57.258   \n",
       "1003884          1307 2018-12-14 06:22:58.982 2018-12-14 06:44:46.540   \n",
       "160907          48425 2018-09-21 17:53:39.887 2018-09-22 07:20:45.659   \n",
       "\n",
       "        start_station_id                                 start_station_name  \\\n",
       "1297328               22                              Howard St at Beale St   \n",
       "146981                67  San Francisco Caltrain Station 2  (Townsend St...   \n",
       "1310612               28                       The Embarcadero at Bryant St   \n",
       "107359                95                              Sanchez St at 15th St   \n",
       "340999               120                               Mission Dolores Park   \n",
       "1318968              180                           Telegraph Ave at 23rd St   \n",
       "669787                30     San Francisco Caltrain (Townsend St at 4th St)   \n",
       "1819083               74                              Laguna St at Hayes St   \n",
       "1003884               16                            Steuart St at Market St   \n",
       "160907                21   Montgomery St BART Station (Market St at 2nd St)   \n",
       "\n",
       "         start_station_latitude  start_station_longitude end_station_id  \\\n",
       "1297328               37.789756              -122.394643            104   \n",
       "146981                37.776639              -122.395526             15   \n",
       "1310612               37.787168              -122.388098              6   \n",
       "107359                37.766219              -122.431060             59   \n",
       "340999                37.761420              -122.426435            141   \n",
       "1318968               37.812678              -122.268773            233   \n",
       "669787                37.776598              -122.395282             22   \n",
       "1819083               37.776435              -122.426244            102   \n",
       "1003884               37.794130              -122.394430             16   \n",
       "160907                37.789625              -122.400811             50   \n",
       "\n",
       "                                          end_station_name  \\\n",
       "1297328                                  4th St at 16th St   \n",
       "146981   San Francisco Ferry Building (Harry Bridges Pl...   \n",
       "1310612                      The Embarcadero at Sansome St   \n",
       "107359                         S Van Ness Ave at Market St   \n",
       "340999                      Valencia St at Cesar Chavez St   \n",
       "1318968                               E 12th St at 4th Ave   \n",
       "669787                               Howard St at Beale St   \n",
       "1819083                                 Irwin St at 8th St   \n",
       "1003884                            Steuart St at Market St   \n",
       "160907                               2nd St at Townsend St   \n",
       "\n",
       "         end_station_latitude  end_station_longitude bike_id   user_type  \\\n",
       "1297328             37.767045            -122.390833    2816  Subscriber   \n",
       "146981              37.795392            -122.394203     292  Subscriber   \n",
       "1310612             37.804770            -122.403234    2633  Subscriber   \n",
       "107359              37.774814            -122.418954    3619  Subscriber   \n",
       "340999              37.747998            -122.420219    3325  Subscriber   \n",
       "1318968             37.795812            -122.255555    3316    Customer   \n",
       "669787              37.789756            -122.394643    3146  Subscriber   \n",
       "1819083             37.766883            -122.399579     720  Subscriber   \n",
       "1003884             37.794130            -122.394430    2779    Customer   \n",
       "160907              37.780526            -122.390288    1012    Customer   \n",
       "\n",
       "        bike_share_for_all_trip  \n",
       "1297328                      No  \n",
       "146981                       No  \n",
       "1310612                      No  \n",
       "107359                       No  \n",
       "340999                       No  \n",
       "1318968                      No  \n",
       "669787                       No  \n",
       "1819083                      No  \n",
       "1003884                      No  \n",
       "160907                       No  "
      ]
     },
     "execution_count": 93,
     "metadata": {},
     "output_type": "execute_result"
    }
   ],
   "source": [
    "df_clean.sample(10)"
   ]
  },
  {
   "cell_type": "code",
   "execution_count": 94,
   "metadata": {
    "slideshow": {
     "slide_type": "skip"
    }
   },
   "outputs": [
    {
     "data": {
      "text/html": [
       "<div>\n",
       "<style scoped>\n",
       "    .dataframe tbody tr th:only-of-type {\n",
       "        vertical-align: middle;\n",
       "    }\n",
       "\n",
       "    .dataframe tbody tr th {\n",
       "        vertical-align: top;\n",
       "    }\n",
       "\n",
       "    .dataframe thead th {\n",
       "        text-align: right;\n",
       "    }\n",
       "</style>\n",
       "<table border=\"1\" class=\"dataframe\">\n",
       "  <thead>\n",
       "    <tr style=\"text-align: right;\">\n",
       "      <th></th>\n",
       "      <th>duration_sec</th>\n",
       "      <th>start_time</th>\n",
       "      <th>end_time</th>\n",
       "      <th>start_station_id</th>\n",
       "      <th>start_station_name</th>\n",
       "      <th>start_station_latitude</th>\n",
       "      <th>start_station_longitude</th>\n",
       "      <th>end_station_id</th>\n",
       "      <th>end_station_name</th>\n",
       "      <th>end_station_latitude</th>\n",
       "      <th>end_station_longitude</th>\n",
       "      <th>bike_id</th>\n",
       "      <th>user_type</th>\n",
       "      <th>bike_share_for_all_trip</th>\n",
       "      <th>duration_minute</th>\n",
       "      <th>start_date</th>\n",
       "      <th>start_hour_of_day</th>\n",
       "      <th>start_day_of_week</th>\n",
       "      <th>start_month</th>\n",
       "    </tr>\n",
       "  </thead>\n",
       "  <tbody>\n",
       "    <tr>\n",
       "      <th>0</th>\n",
       "      <td>598</td>\n",
       "      <td>2018-02-28 23:59:47.097</td>\n",
       "      <td>2018-03-01 00:09:45.187</td>\n",
       "      <td>284</td>\n",
       "      <td>Yerba Buena Center for the Arts (Howard St at ...</td>\n",
       "      <td>37.784872</td>\n",
       "      <td>-122.400876</td>\n",
       "      <td>114</td>\n",
       "      <td>Rhode Island St at 17th St</td>\n",
       "      <td>37.764478</td>\n",
       "      <td>-122.402570</td>\n",
       "      <td>1035</td>\n",
       "      <td>Subscriber</td>\n",
       "      <td>No</td>\n",
       "      <td>9.966667</td>\n",
       "      <td>2018-02-28</td>\n",
       "      <td>23</td>\n",
       "      <td>Wednesday</td>\n",
       "      <td>February</td>\n",
       "    </tr>\n",
       "    <tr>\n",
       "      <th>1</th>\n",
       "      <td>943</td>\n",
       "      <td>2018-02-28 23:21:16.495</td>\n",
       "      <td>2018-02-28 23:36:59.974</td>\n",
       "      <td>6</td>\n",
       "      <td>The Embarcadero at Sansome St</td>\n",
       "      <td>37.804770</td>\n",
       "      <td>-122.403234</td>\n",
       "      <td>324</td>\n",
       "      <td>Union Square (Powell St at Post St)</td>\n",
       "      <td>37.788300</td>\n",
       "      <td>-122.408531</td>\n",
       "      <td>1673</td>\n",
       "      <td>Customer</td>\n",
       "      <td>No</td>\n",
       "      <td>15.716667</td>\n",
       "      <td>2018-02-28</td>\n",
       "      <td>23</td>\n",
       "      <td>Wednesday</td>\n",
       "      <td>February</td>\n",
       "    </tr>\n",
       "    <tr>\n",
       "      <th>2</th>\n",
       "      <td>18587</td>\n",
       "      <td>2018-02-28 18:20:55.190</td>\n",
       "      <td>2018-02-28 23:30:42.925</td>\n",
       "      <td>93</td>\n",
       "      <td>4th St at Mission Bay Blvd S</td>\n",
       "      <td>37.770407</td>\n",
       "      <td>-122.391198</td>\n",
       "      <td>15</td>\n",
       "      <td>San Francisco Ferry Building (Harry Bridges Pl...</td>\n",
       "      <td>37.795392</td>\n",
       "      <td>-122.394203</td>\n",
       "      <td>3498</td>\n",
       "      <td>Customer</td>\n",
       "      <td>No</td>\n",
       "      <td>309.783333</td>\n",
       "      <td>2018-02-28</td>\n",
       "      <td>18</td>\n",
       "      <td>Wednesday</td>\n",
       "      <td>February</td>\n",
       "    </tr>\n",
       "    <tr>\n",
       "      <th>3</th>\n",
       "      <td>18558</td>\n",
       "      <td>2018-02-28 18:20:53.621</td>\n",
       "      <td>2018-02-28 23:30:12.450</td>\n",
       "      <td>93</td>\n",
       "      <td>4th St at Mission Bay Blvd S</td>\n",
       "      <td>37.770407</td>\n",
       "      <td>-122.391198</td>\n",
       "      <td>15</td>\n",
       "      <td>San Francisco Ferry Building (Harry Bridges Pl...</td>\n",
       "      <td>37.795392</td>\n",
       "      <td>-122.394203</td>\n",
       "      <td>3129</td>\n",
       "      <td>Customer</td>\n",
       "      <td>No</td>\n",
       "      <td>309.300000</td>\n",
       "      <td>2018-02-28</td>\n",
       "      <td>18</td>\n",
       "      <td>Wednesday</td>\n",
       "      <td>February</td>\n",
       "    </tr>\n",
       "    <tr>\n",
       "      <th>4</th>\n",
       "      <td>885</td>\n",
       "      <td>2018-02-28 23:15:12.858</td>\n",
       "      <td>2018-02-28 23:29:58.608</td>\n",
       "      <td>308</td>\n",
       "      <td>San Pedro Square</td>\n",
       "      <td>37.336802</td>\n",
       "      <td>-121.894090</td>\n",
       "      <td>297</td>\n",
       "      <td>Locust St at Grant St</td>\n",
       "      <td>37.322980</td>\n",
       "      <td>-121.887931</td>\n",
       "      <td>1839</td>\n",
       "      <td>Subscriber</td>\n",
       "      <td>Yes</td>\n",
       "      <td>14.750000</td>\n",
       "      <td>2018-02-28</td>\n",
       "      <td>23</td>\n",
       "      <td>Wednesday</td>\n",
       "      <td>February</td>\n",
       "    </tr>\n",
       "  </tbody>\n",
       "</table>\n",
       "</div>"
      ],
      "text/plain": [
       "   duration_sec              start_time                end_time  \\\n",
       "0           598 2018-02-28 23:59:47.097 2018-03-01 00:09:45.187   \n",
       "1           943 2018-02-28 23:21:16.495 2018-02-28 23:36:59.974   \n",
       "2         18587 2018-02-28 18:20:55.190 2018-02-28 23:30:42.925   \n",
       "3         18558 2018-02-28 18:20:53.621 2018-02-28 23:30:12.450   \n",
       "4           885 2018-02-28 23:15:12.858 2018-02-28 23:29:58.608   \n",
       "\n",
       "  start_station_id                                 start_station_name  \\\n",
       "0              284  Yerba Buena Center for the Arts (Howard St at ...   \n",
       "1                6                      The Embarcadero at Sansome St   \n",
       "2               93                       4th St at Mission Bay Blvd S   \n",
       "3               93                       4th St at Mission Bay Blvd S   \n",
       "4              308                                   San Pedro Square   \n",
       "\n",
       "   start_station_latitude  start_station_longitude end_station_id  \\\n",
       "0               37.784872              -122.400876            114   \n",
       "1               37.804770              -122.403234            324   \n",
       "2               37.770407              -122.391198             15   \n",
       "3               37.770407              -122.391198             15   \n",
       "4               37.336802              -121.894090            297   \n",
       "\n",
       "                                    end_station_name  end_station_latitude  \\\n",
       "0                         Rhode Island St at 17th St             37.764478   \n",
       "1                Union Square (Powell St at Post St)             37.788300   \n",
       "2  San Francisco Ferry Building (Harry Bridges Pl...             37.795392   \n",
       "3  San Francisco Ferry Building (Harry Bridges Pl...             37.795392   \n",
       "4                              Locust St at Grant St             37.322980   \n",
       "\n",
       "   end_station_longitude bike_id   user_type bike_share_for_all_trip  \\\n",
       "0            -122.402570    1035  Subscriber                      No   \n",
       "1            -122.408531    1673    Customer                      No   \n",
       "2            -122.394203    3498    Customer                      No   \n",
       "3            -122.394203    3129    Customer                      No   \n",
       "4            -121.887931    1839  Subscriber                     Yes   \n",
       "\n",
       "   duration_minute  start_date start_hour_of_day start_day_of_week start_month  \n",
       "0         9.966667  2018-02-28                23         Wednesday    February  \n",
       "1        15.716667  2018-02-28                23         Wednesday    February  \n",
       "2       309.783333  2018-02-28                18         Wednesday    February  \n",
       "3       309.300000  2018-02-28                18         Wednesday    February  \n",
       "4        14.750000  2018-02-28                23         Wednesday    February  "
      ]
     },
     "execution_count": 94,
     "metadata": {},
     "output_type": "execute_result"
    }
   ],
   "source": [
    "# Calculate Some extra column to work with.\n",
    "\n",
    "# conversion from seconds to minutes.\n",
    "df_clean['duration_minute'] = df_clean['duration_sec']/60\n",
    "\n",
    "# Extract only Start Date.\n",
    "df_clean['start_date'] = df_clean.start_time.dt.strftime('%Y-%m-%d')\n",
    "\n",
    "#Extract hours of a day from date.\n",
    "df_clean['start_hour_of_day'] = df_clean.start_time.dt.strftime('%H')\n",
    "\n",
    "# Extract day of the week from start_date.\n",
    "df_clean['start_day_of_week'] = df_clean.start_time.dt.strftime('%A')\n",
    "\n",
    "#Extract month from start_date\n",
    "df_clean['start_month'] = df_clean.start_time.dt.strftime('%B')\n",
    "\n",
    "# check new columns.\n",
    "df_clean.head()"
   ]
  },
  {
   "cell_type": "markdown",
   "metadata": {
    "slideshow": {
     "slide_type": "skip"
    }
   },
   "source": [
    "**Now, I'll be removing some extra columns which will not use in my analysis process.** which are `duration_sec`, `start_station_id`, `start_station_latitude`, `start_station_longitude`, `end_station_id`, `end_station_latitude`, `end_station_longitude`"
   ]
  },
  {
   "cell_type": "code",
   "execution_count": 98,
   "metadata": {
    "slideshow": {
     "slide_type": "skip"
    }
   },
   "outputs": [
    {
     "data": {
      "text/html": [
       "<div>\n",
       "<style scoped>\n",
       "    .dataframe tbody tr th:only-of-type {\n",
       "        vertical-align: middle;\n",
       "    }\n",
       "\n",
       "    .dataframe tbody tr th {\n",
       "        vertical-align: top;\n",
       "    }\n",
       "\n",
       "    .dataframe thead th {\n",
       "        text-align: right;\n",
       "    }\n",
       "</style>\n",
       "<table border=\"1\" class=\"dataframe\">\n",
       "  <thead>\n",
       "    <tr style=\"text-align: right;\">\n",
       "      <th></th>\n",
       "      <th>start_time</th>\n",
       "      <th>end_time</th>\n",
       "      <th>start_station_name</th>\n",
       "      <th>end_station_name</th>\n",
       "      <th>bike_id</th>\n",
       "      <th>user_type</th>\n",
       "      <th>bike_share_for_all_trip</th>\n",
       "      <th>duration_minute</th>\n",
       "      <th>start_date</th>\n",
       "      <th>start_hour_of_day</th>\n",
       "      <th>start_day_of_week</th>\n",
       "      <th>start_month</th>\n",
       "    </tr>\n",
       "  </thead>\n",
       "  <tbody>\n",
       "    <tr>\n",
       "      <th>0</th>\n",
       "      <td>2018-02-28 23:59:47.097</td>\n",
       "      <td>2018-03-01 00:09:45.187</td>\n",
       "      <td>Yerba Buena Center for the Arts (Howard St at ...</td>\n",
       "      <td>Rhode Island St at 17th St</td>\n",
       "      <td>1035</td>\n",
       "      <td>Subscriber</td>\n",
       "      <td>No</td>\n",
       "      <td>9.966667</td>\n",
       "      <td>2018-02-28</td>\n",
       "      <td>23</td>\n",
       "      <td>Wednesday</td>\n",
       "      <td>February</td>\n",
       "    </tr>\n",
       "    <tr>\n",
       "      <th>1</th>\n",
       "      <td>2018-02-28 23:21:16.495</td>\n",
       "      <td>2018-02-28 23:36:59.974</td>\n",
       "      <td>The Embarcadero at Sansome St</td>\n",
       "      <td>Union Square (Powell St at Post St)</td>\n",
       "      <td>1673</td>\n",
       "      <td>Customer</td>\n",
       "      <td>No</td>\n",
       "      <td>15.716667</td>\n",
       "      <td>2018-02-28</td>\n",
       "      <td>23</td>\n",
       "      <td>Wednesday</td>\n",
       "      <td>February</td>\n",
       "    </tr>\n",
       "    <tr>\n",
       "      <th>2</th>\n",
       "      <td>2018-02-28 18:20:55.190</td>\n",
       "      <td>2018-02-28 23:30:42.925</td>\n",
       "      <td>4th St at Mission Bay Blvd S</td>\n",
       "      <td>San Francisco Ferry Building (Harry Bridges Pl...</td>\n",
       "      <td>3498</td>\n",
       "      <td>Customer</td>\n",
       "      <td>No</td>\n",
       "      <td>309.783333</td>\n",
       "      <td>2018-02-28</td>\n",
       "      <td>18</td>\n",
       "      <td>Wednesday</td>\n",
       "      <td>February</td>\n",
       "    </tr>\n",
       "    <tr>\n",
       "      <th>3</th>\n",
       "      <td>2018-02-28 18:20:53.621</td>\n",
       "      <td>2018-02-28 23:30:12.450</td>\n",
       "      <td>4th St at Mission Bay Blvd S</td>\n",
       "      <td>San Francisco Ferry Building (Harry Bridges Pl...</td>\n",
       "      <td>3129</td>\n",
       "      <td>Customer</td>\n",
       "      <td>No</td>\n",
       "      <td>309.300000</td>\n",
       "      <td>2018-02-28</td>\n",
       "      <td>18</td>\n",
       "      <td>Wednesday</td>\n",
       "      <td>February</td>\n",
       "    </tr>\n",
       "    <tr>\n",
       "      <th>4</th>\n",
       "      <td>2018-02-28 23:15:12.858</td>\n",
       "      <td>2018-02-28 23:29:58.608</td>\n",
       "      <td>San Pedro Square</td>\n",
       "      <td>Locust St at Grant St</td>\n",
       "      <td>1839</td>\n",
       "      <td>Subscriber</td>\n",
       "      <td>Yes</td>\n",
       "      <td>14.750000</td>\n",
       "      <td>2018-02-28</td>\n",
       "      <td>23</td>\n",
       "      <td>Wednesday</td>\n",
       "      <td>February</td>\n",
       "    </tr>\n",
       "  </tbody>\n",
       "</table>\n",
       "</div>"
      ],
      "text/plain": [
       "               start_time                end_time  \\\n",
       "0 2018-02-28 23:59:47.097 2018-03-01 00:09:45.187   \n",
       "1 2018-02-28 23:21:16.495 2018-02-28 23:36:59.974   \n",
       "2 2018-02-28 18:20:55.190 2018-02-28 23:30:42.925   \n",
       "3 2018-02-28 18:20:53.621 2018-02-28 23:30:12.450   \n",
       "4 2018-02-28 23:15:12.858 2018-02-28 23:29:58.608   \n",
       "\n",
       "                                  start_station_name  \\\n",
       "0  Yerba Buena Center for the Arts (Howard St at ...   \n",
       "1                      The Embarcadero at Sansome St   \n",
       "2                       4th St at Mission Bay Blvd S   \n",
       "3                       4th St at Mission Bay Blvd S   \n",
       "4                                   San Pedro Square   \n",
       "\n",
       "                                    end_station_name bike_id   user_type  \\\n",
       "0                         Rhode Island St at 17th St    1035  Subscriber   \n",
       "1                Union Square (Powell St at Post St)    1673    Customer   \n",
       "2  San Francisco Ferry Building (Harry Bridges Pl...    3498    Customer   \n",
       "3  San Francisco Ferry Building (Harry Bridges Pl...    3129    Customer   \n",
       "4                              Locust St at Grant St    1839  Subscriber   \n",
       "\n",
       "  bike_share_for_all_trip  duration_minute  start_date start_hour_of_day  \\\n",
       "0                      No         9.966667  2018-02-28                23   \n",
       "1                      No        15.716667  2018-02-28                23   \n",
       "2                      No       309.783333  2018-02-28                18   \n",
       "3                      No       309.300000  2018-02-28                18   \n",
       "4                     Yes        14.750000  2018-02-28                23   \n",
       "\n",
       "  start_day_of_week start_month  \n",
       "0         Wednesday    February  \n",
       "1         Wednesday    February  \n",
       "2         Wednesday    February  \n",
       "3         Wednesday    February  \n",
       "4         Wednesday    February  "
      ]
     },
     "execution_count": 98,
     "metadata": {},
     "output_type": "execute_result"
    }
   ],
   "source": [
    "columns_to_drop = ['duration_sec', 'start_station_id', 'start_station_latitude', 'start_station_longitude', 'end_station_id', 'end_station_latitude', 'end_station_longitude']\n",
    "df_clean.drop(columns_to_drop, axis=1, inplace=True)\n",
    "df_clean.head()"
   ]
  },
  {
   "cell_type": "code",
   "execution_count": null,
   "metadata": {
    "slideshow": {
     "slide_type": "skip"
    }
   },
   "outputs": [],
   "source": []
  },
  {
   "cell_type": "code",
   "execution_count": 97,
   "metadata": {
    "slideshow": {
     "slide_type": "skip"
    }
   },
   "outputs": [
    {
     "name": "stdout",
     "output_type": "stream",
     "text": [
      "<class 'pandas.core.frame.DataFrame'>\n",
      "RangeIndex: 1863721 entries, 0 to 1863720\n",
      "Data columns (total 19 columns):\n",
      " #   Column                   Dtype         \n",
      "---  ------                   -----         \n",
      " 0   duration_sec             int64         \n",
      " 1   start_time               datetime64[ns]\n",
      " 2   end_time                 datetime64[ns]\n",
      " 3   start_station_id         object        \n",
      " 4   start_station_name       object        \n",
      " 5   start_station_latitude   float64       \n",
      " 6   start_station_longitude  float64       \n",
      " 7   end_station_id           object        \n",
      " 8   end_station_name         object        \n",
      " 9   end_station_latitude     float64       \n",
      " 10  end_station_longitude    float64       \n",
      " 11  bike_id                  object        \n",
      " 12  user_type                category      \n",
      " 13  bike_share_for_all_trip  object        \n",
      " 14  duration_minute          float64       \n",
      " 15  start_date               object        \n",
      " 16  start_hour_of_day        object        \n",
      " 17  start_day_of_week        object        \n",
      " 18  start_month              object        \n",
      "dtypes: category(1), datetime64[ns](2), float64(5), int64(1), object(10)\n",
      "memory usage: 257.7+ MB\n"
     ]
    }
   ],
   "source": [
    "df_clean.info()"
   ]
  },
  {
   "cell_type": "markdown",
   "metadata": {
    "slideshow": {
     "slide_type": "slide"
    }
   },
   "source": [
    "### What is the structure of your dataset?\n",
    "\n",
    "> I'm using dataset for the year 2018. The original dataset contains 1863721 ectries and 16 columns. The following columns are: duration_sec, start_time, start_station_id, start_station_name, start_station_latitude, start_station_longitude, end_station_id, end_station_name, end_station_latitude, end_station_id, end_station_name, end_station_latitude, end_station_longitude, bike_id, user_type, bike_share_for_all_trip. For the analysis of this Data Set I Added and removed some columns according to my requirements.\n",
    "\n",
    "> **Columns I removed:** `duration_sec`, `start_station_id`, `start_station_latitude`, `start_station_longitude`, `end_station_id`, `end_station_latitude`, `end_station_longitude`\n",
    "\n",
    "\n",
    "> **Columns I added:** `duration_minute`, `start_hour_of_day`, `start_day_of_week`, `start_month`\n",
    "\n",
    "### What is/are the main feature(s) of interest in your dataset?\n",
    "\n",
    "> The main features are about Rider Type, Stations information, and Ride Duration.\n",
    "\n",
    "### What features in the dataset do you think will help support your investigation into your feature(s) of interest?\n",
    "\n",
    "> I'll use serveral features for some calculations and visualizations. i-e\n",
    "- stations information to calculate most popular stations etc.\n",
    "- user_type to see what are most riders we had in 2018 who travelled more.\n",
    "- duration, date time column will help me to visualize time related findings."
   ]
  },
  {
   "cell_type": "markdown",
   "metadata": {
    "slideshow": {
     "slide_type": "skip"
    }
   },
   "source": [
    "## Univariate Exploration\n",
    "\n",
    "> In this section, investigate distributions of individual variables. If\n",
    "you see unusual points or outliers, take a deeper look to clean things up\n",
    "and prepare yourself to look at relationships between variables."
   ]
  },
  {
   "cell_type": "code",
   "execution_count": 100,
   "metadata": {
    "slideshow": {
     "slide_type": "skip"
    }
   },
   "outputs": [],
   "source": [
    "# Set Base color which I'll be using Throughout the Project.\n",
    "base_color = sb.color_palette()[0]"
   ]
  },
  {
   "cell_type": "code",
   "execution_count": 113,
   "metadata": {
    "slideshow": {
     "slide_type": "slide"
    }
   },
   "outputs": [
    {
     "data": {
      "text/plain": [
       "Text(0, 0.5, 'Total Riders')"
      ]
     },
     "execution_count": 113,
     "metadata": {},
     "output_type": "execute_result"
    },
    {
     "data": {
      "image/png": "[encoded data removed]",
      "text/plain": [
       "<Figure size 576x360 with 1 Axes>"
      ]
     },
     "metadata": {},
     "output_type": "display_data"
    }
   ],
   "source": [
    "# first, draw trip distribution on day hours to see most busy hours.\n",
    "\n",
    "plt.figure(figsize=(8,5))\n",
    "\n",
    "sb.countplot(data=df_clean, x='start_hour_of_day', color=base_color);\n",
    "plt.suptitle('Riders in each hour', fontsize=20)\n",
    "plt.xlabel('Hour of Day', fontsize=15)\n",
    "plt.ylabel('Total Riders', fontsize=15)\n"
   ]
  },
  {
   "cell_type": "markdown",
   "metadata": {
    "slideshow": {
     "slide_type": "skip"
    }
   },
   "source": [
    "It can be seen clearly that 17:00 was the most busy hour as more then 200000 riders travelled in this time on everyday."
   ]
  },
  {
   "cell_type": "code",
   "execution_count": 107,
   "metadata": {
    "slideshow": {
     "slide_type": "skip"
    }
   },
   "outputs": [
    {
     "data": {
      "text/plain": [
       "Tuesday      319332\n",
       "Wednesday    316374\n",
       "Thursday     314124\n",
       "Monday       294573\n",
       "Friday       290390\n",
       "Saturday     175614\n",
       "Sunday       153314\n",
       "Name: start_day_of_week, dtype: int64"
      ]
     },
     "execution_count": 107,
     "metadata": {},
     "output_type": "execute_result"
    }
   ],
   "source": [
    "df_clean.start_day_of_week.value_counts()"
   ]
  },
  {
   "cell_type": "code",
   "execution_count": 114,
   "metadata": {
    "slideshow": {
     "slide_type": "slide"
    }
   },
   "outputs": [
    {
     "data": {
      "text/plain": [
       "Text(0, 0.5, 'Total Riders')"
      ]
     },
     "execution_count": 114,
     "metadata": {},
     "output_type": "execute_result"
    },
    {
     "data": {
      "image/png": "[encoded data removed]",
      "text/plain": [
       "<Figure size 576x360 with 1 Axes>"
      ]
     },
     "metadata": {},
     "output_type": "display_data"
    }
   ],
   "source": [
    "# Second, draw trip distribution week days to see most demanding day of the week.\n",
    "\n",
    "plt.figure(figsize=(8,5))\n",
    "\n",
    "days_order = ['Monday', 'Tuesday', 'Wednesday', 'Thursday', 'Friday', 'Saturday','Sunday']\n",
    "sb.countplot(data=df_clean, x='start_day_of_week', color=base_color, order=days_order);\n",
    "plt.suptitle('Riders in Week Days', fontsize=20)\n",
    "plt.xlabel('Week Days', fontsize=15)\n",
    "plt.ylabel('Total Riders', fontsize=15)"
   ]
  },
  {
   "cell_type": "markdown",
   "metadata": {
    "slideshow": {
     "slide_type": "subslide"
    }
   },
   "source": [
    "It can be seen that Tuesday, Wednesday and Thursday were days with more riders, more then 300000 riders travelled on these days throughout the year 2018 on these days."
   ]
  },
  {
   "cell_type": "code",
   "execution_count": 117,
   "metadata": {
    "slideshow": {
     "slide_type": "slide"
    }
   },
   "outputs": [
    {
     "data": {
      "image/png": "[encoded data removed]",
      "text/plain": [
       "<Figure size 576x360 with 1 Axes>"
      ]
     },
     "metadata": {},
     "output_type": "display_data"
    }
   ],
   "source": [
    "# Second, draw trip distribution week days to see most demanding day of the week.\n",
    "\n",
    "plt.figure(figsize=(8,5))\n",
    "\n",
    "order_month = ['January', 'February', 'March', 'April', 'May', 'June', 'July', 'August', 'September', 'October', 'November', 'December']\n",
    "sb.countplot(data=df_clean, x='start_month', color=base_color, order=order_month);\n",
    "plt.suptitle('Riders in Each Month', fontsize=20)\n",
    "plt.xlabel('Month in the year 2018', fontsize=15)\n",
    "plt.ylabel('Total Riders', fontsize=15)\n",
    "plt.xticks(rotation=30);"
   ]
  },
  {
   "cell_type": "markdown",
   "metadata": {
    "slideshow": {
     "slide_type": "subslide"
    }
   },
   "source": [
    "As visualization above stated that there were more riders from May to October as compare to remaining months. These are more then 175000 in these months."
   ]
  },
  {
   "cell_type": "code",
   "execution_count": 120,
   "metadata": {
    "slideshow": {
     "slide_type": "slide"
    }
   },
   "outputs": [
    {
     "data": {
      "text/plain": [
       "Text(0, 0.5, 'Total Riders')"
      ]
     },
     "execution_count": 120,
     "metadata": {},
     "output_type": "execute_result"
    },
    {
     "data": {
      "image/png": "[encoded data removed]",
      "text/plain": [
       "<Figure size 432x288 with 1 Axes>"
      ]
     },
     "metadata": {},
     "output_type": "display_data"
    }
   ],
   "source": [
    "# To See which user categories took more rides in 2018.\n",
    "\n",
    "sb.countplot(data=df_clean, x='user_type', color=base_color);\n",
    "plt.suptitle('Which user type took more rides', fontsize=20)\n",
    "plt.xlabel('User Type', fontsize=15)\n",
    "plt.ylabel('Total Riders', fontsize=15)"
   ]
  },
  {
   "cell_type": "markdown",
   "metadata": {
    "slideshow": {
     "slide_type": "subslide"
    }
   },
   "source": [
    "Obviously, the most of riders were those who got subscription before ride. On the other hand very few as compare to subscribers were thoese who were just non subscribers."
   ]
  },
  {
   "cell_type": "code",
   "execution_count": 122,
   "metadata": {
    "slideshow": {
     "slide_type": "slide"
    }
   },
   "outputs": [
    {
     "data": {
      "text/plain": [
       "Text(0, 0.5, 'Total Riders')"
      ]
     },
     "execution_count": 122,
     "metadata": {},
     "output_type": "execute_result"
    },
    {
     "data": {
      "image/png": "[encoded data removed]",
      "text/plain": [
       "<Figure size 432x288 with 1 Axes>"
      ]
     },
     "metadata": {},
     "output_type": "display_data"
    }
   ],
   "source": [
    "\n",
    "sb.countplot(data=df_clean, x='bike_share_for_all_trip', color=base_color);\n",
    "plt.suptitle('Bike Shared for all Tripes', fontsize=20)\n",
    "plt.xlabel('Shared Bikes', fontsize=15)\n",
    "plt.ylabel('Total Riders', fontsize=15)"
   ]
  },
  {
   "cell_type": "markdown",
   "metadata": {
    "slideshow": {
     "slide_type": "subslide"
    }
   },
   "source": [
    "Most of the time bike was not shared in the whole trip, as it can be seen that only bellow 200000 riders shared their bikes in the whole year.\n"
   ]
  },
  {
   "cell_type": "code",
   "execution_count": 125,
   "metadata": {
    "slideshow": {
     "slide_type": "slide"
    }
   },
   "outputs": [
    {
     "data": {
      "text/plain": [
       "Text(0, 0.5, 'Minutes')"
      ]
     },
     "execution_count": 125,
     "metadata": {},
     "output_type": "execute_result"
    },
    {
     "data": {
      "image/png": "[encoded data removed]",
      "text/plain": [
       "<Figure size 432x288 with 1 Axes>"
      ]
     },
     "metadata": {},
     "output_type": "display_data"
    }
   ],
   "source": [
    "# Let's Draw Trip duration distribution.\n",
    "\n",
    "plt.hist(data=df_clean, x='duration_minute');\n",
    "plt.suptitle('Trip Duration in Minutes', fontsize=20)\n",
    "plt.xlabel('Duration', fontsize=15)\n",
    "plt.ylabel('Minutes', fontsize=15)"
   ]
  },
  {
   "cell_type": "markdown",
   "metadata": {
    "slideshow": {
     "slide_type": "subslide"
    }
   },
   "source": [
    "All of the rider's took trip for less then 200 minutes. let's zoom the figure and redraw this figure to have more clearity."
   ]
  },
  {
   "cell_type": "code",
   "execution_count": 126,
   "metadata": {},
   "outputs": [
    {
     "data": {
      "text/plain": [
       "count    1.863721e+06\n",
       "mean     1.428838e+01\n",
       "std      3.950631e+01\n",
       "min      1.016667e+00\n",
       "50%      9.266667e+00\n",
       "99%      9.221667e+01\n",
       "max      1.439433e+03\n",
       "Name: duration_minute, dtype: float64"
      ]
     },
     "execution_count": 126,
     "metadata": {},
     "output_type": "execute_result"
    }
   ],
   "source": [
    "df_clean['duration_minute'].describe(percentiles=[.99])"
   ]
  },
  {
   "cell_type": "code",
   "execution_count": 130,
   "metadata": {
    "slideshow": {
     "slide_type": "slide"
    }
   },
   "outputs": [
    {
     "data": {
      "text/plain": [
       "Text(0, 0.5, 'Minutes')"
      ]
     },
     "execution_count": 130,
     "metadata": {},
     "output_type": "execute_result"
    },
    {
     "data": {
      "image/png": "[encoded data removed]",
      "text/plain": [
       "<Figure size 576x360 with 1 Axes>"
      ]
     },
     "metadata": {},
     "output_type": "display_data"
    }
   ],
   "source": [
    "plt.figure(figsize=(8,5))\n",
    "bin_size = np.arange(0, 60, 1)\n",
    "ticks = np.arange(0, 60, 5)\n",
    "plt.hist(data=df_clean, x='duration_minute', bins=bin_size);\n",
    "plt.xticks(ticks, ticks);\n",
    "plt.suptitle('Trip Duration in Minutes', fontsize=20)\n",
    "plt.xlabel('Duration', fontsize=15)\n",
    "plt.ylabel('Minutes', fontsize=15)"
   ]
  },
  {
   "cell_type": "markdown",
   "metadata": {
    "slideshow": {
     "slide_type": "subslide"
    }
   },
   "source": [
    "It can bee seen most of the trips were shorder then 1hr. let's remove outliers to have a better picture."
   ]
  },
  {
   "cell_type": "code",
   "execution_count": 131,
   "metadata": {},
   "outputs": [
    {
     "name": "stdout",
     "output_type": "stream",
     "text": [
      "<class 'pandas.core.frame.DataFrame'>\n",
      "Int64Index: 1835478 entries, 0 to 1863720\n",
      "Data columns (total 12 columns):\n",
      " #   Column                   Non-Null Count    Dtype         \n",
      "---  ------                   --------------    -----         \n",
      " 0   start_time               1835478 non-null  datetime64[ns]\n",
      " 1   end_time                 1835478 non-null  datetime64[ns]\n",
      " 2   start_station_name       1824136 non-null  object        \n",
      " 3   end_station_name         1824136 non-null  object        \n",
      " 4   bike_id                  1835478 non-null  object        \n",
      " 5   user_type                1835478 non-null  category      \n",
      " 6   bike_share_for_all_trip  1835478 non-null  object        \n",
      " 7   duration_minute          1835478 non-null  float64       \n",
      " 8   start_date               1835478 non-null  object        \n",
      " 9   start_hour_of_day        1835478 non-null  object        \n",
      " 10  start_day_of_week        1835478 non-null  object        \n",
      " 11  start_month              1835478 non-null  object        \n",
      "dtypes: category(1), datetime64[ns](2), float64(1), object(8)\n",
      "memory usage: 169.8+ MB\n"
     ]
    }
   ],
   "source": [
    "df_clean = df_clean.query('duration_minute <= 66')\n",
    "df_clean.info(null_counts=True)"
   ]
  },
  {
   "cell_type": "code",
   "execution_count": 132,
   "metadata": {},
   "outputs": [],
   "source": [
    "# Now time to save Clearned data into a separate File.\n",
    "\n",
    "df_clean.to_csv('fordgobike_trips_2018_clean.csv', index=False)"
   ]
  },
  {
   "cell_type": "markdown",
   "metadata": {
    "slideshow": {
     "slide_type": "slide"
    }
   },
   "source": [
    "### Discuss the distribution(s) of your variable(s) of interest. Were there any unusual points? Did you need to perform any transformations?\n",
    "\n",
    "> \n",
    "- It can be seen clearly that 17:00 was the most busy hour as more then 200000 riders travelled in this time on everyday.\n",
    "- It can be seen that Tuesday, Wednesday and Thursday were days with more riders, more then 300000 riders travelled on these days throughout the year 2018 on these days.\n",
    "- As visualization above stated that there were more riders from May to October as compare to remaining months. \n",
    "- These are more then 175000 in these months. Obviously, the most of riders were those who got subscription before ride. On the other hand very few as compare to subscribers were thoese who were just non subscribers. \n",
    "- Most of the time bike was not shared in the whole trip, as it can be seen that only bellow 200000 riders shared their bikes in the whole year. \n",
    "- It can bee seen most of the trips were shorder then 1hr.\n",
    "\n",
    "### Of the features you investigated, were there any unusual distributions? Did you perform any operations on the data to tidy, adjust, or change the form of the data? If so, why did you do this?\n",
    "\n",
    "> When I draw trip duration's distribution I saw all rider's were in the same bin under 200 minutes. Then I have to zoom it and redraw the distribution for the more clearity of data. To figure it out, I filtered out records from outliers and use .query() method to get get specipic records for Trip Duration.\n"
   ]
  },
  {
   "cell_type": "markdown",
   "metadata": {
    "slideshow": {
     "slide_type": "slide"
    }
   },
   "source": [
    "## Bivariate Exploration"
   ]
  },
  {
   "cell_type": "markdown",
   "metadata": {
    "slideshow": {
     "slide_type": "slide"
    }
   },
   "source": [
    "**Relationship or the distribution varies between customers and suhbscribers.**"
   ]
  },
  {
   "cell_type": "code",
   "execution_count": 136,
   "metadata": {
    "slideshow": {
     "slide_type": "subslide"
    }
   },
   "outputs": [
    {
     "data": {
      "text/plain": [
       "Text(0, 0.5, 'Minutes')"
      ]
     },
     "execution_count": 136,
     "metadata": {},
     "output_type": "execute_result"
    },
    {
     "data": {
      "image/png": "[encoded data removed]",
      "text/plain": [
       "<Figure size 720x504 with 1 Axes>"
      ]
     },
     "metadata": {},
     "output_type": "display_data"
    }
   ],
   "source": [
    "plt.figure(figsize=(10,7))\n",
    "sb.violinplot(data=df_clean, x='user_type', y='duration_minute', color=base_color, inner='quartile');\n",
    "plt.suptitle('Trip Duration in Minutes', fontsize=20)\n",
    "plt.xlabel('User Types', fontsize=15)\n",
    "plt.ylabel('Minutes', fontsize=15)"
   ]
  },
  {
   "cell_type": "markdown",
   "metadata": {
    "slideshow": {
     "slide_type": "subslide"
    }
   },
   "source": [
    "The Distribution stated that there are more subscribers than Customers. And it can be seen very clearly."
   ]
  },
  {
   "cell_type": "markdown",
   "metadata": {
    "slideshow": {
     "slide_type": "slide"
    }
   },
   "source": [
    "**Now lets see, Average Duration of Trips on Week Days**"
   ]
  },
  {
   "cell_type": "code",
   "execution_count": 140,
   "metadata": {
    "slideshow": {
     "slide_type": "subslide"
    }
   },
   "outputs": [
    {
     "data": {
      "image/png": "[encoded data removed]",
      "text/plain": [
       "<Figure size 576x360 with 1 Axes>"
      ]
     },
     "metadata": {},
     "output_type": "display_data"
    }
   ],
   "source": [
    "plt.figure(figsize=(8,5))\n",
    "sb.barplot(data=df_clean, x='start_day_of_week', y='duration_minute', color=base_color, order=days_order);\n",
    "plt.suptitle('Average Duration of Trips on Week Days', fontsize=20)\n",
    "plt.xlabel('Days of the Week', fontsize=15);\n",
    "plt.ylabel('The Avg. Trip Duration in Minute', fontsize=15);"
   ]
  },
  {
   "cell_type": "markdown",
   "metadata": {
    "slideshow": {
     "slide_type": "subslide"
    }
   },
   "source": [
    "The Trip durations were longer on weekends than week days. People had long minutes on saturday and sunday."
   ]
  },
  {
   "cell_type": "markdown",
   "metadata": {
    "slideshow": {
     "slide_type": "slide"
    }
   },
   "source": [
    "**Now, let's have look towards Weekly usage between customers and subscribers**"
   ]
  },
  {
   "cell_type": "code",
   "execution_count": 159,
   "metadata": {
    "slideshow": {
     "slide_type": "subslide"
    }
   },
   "outputs": [
    {
     "data": {
      "text/plain": [
       "Text(0.5, 0, 'Days of the Week')"
      ]
     },
     "execution_count": 159,
     "metadata": {},
     "output_type": "execute_result"
    },
    {
     "data": {
      "image/png": "[encoded data removed]",
      "text/plain": [
       "<Figure size 720x504 with 1 Axes>"
      ]
     },
     "metadata": {},
     "output_type": "display_data"
    }
   ],
   "source": [
    "plt.figure(figsize=(10,7))\n",
    "sb.countplot(data=df_clean, x='start_day_of_week', hue='user_type');\n",
    "plt.suptitle('User weekly usage', fontsize=20)\n",
    "plt.xlabel('Days of the Week', fontsize=15)"
   ]
  },
  {
   "cell_type": "code",
   "execution_count": 156,
   "metadata": {
    "slideshow": {
     "slide_type": "slide"
    }
   },
   "outputs": [
    {
     "data": {
      "image/png": "[encoded data removed]",
      "text/plain": [
       "<Figure size 576x360 with 1 Axes>"
      ]
     },
     "metadata": {},
     "output_type": "display_data"
    }
   ],
   "source": [
    "# let's create Proportion first.\n",
    "\n",
    "customer_prop = df_clean[df_clean.user_type == \"Customer\"]['bike_id'].count() / df_clean['bike_id'].count()\n",
    "subscriber_prop =  df_clean[df_clean.user_type == \"Subscriber\"]['bike_id'].count() / df_clean['bike_id'].count()\n",
    "\n",
    "labels = ['Customer', 'Subscriber']\n",
    "plt.figure(figsize = [8, 5])\n",
    "\n",
    "size = [customer_prop, subscriber_prop]\n",
    "explode = (0, 0.1)\n",
    "\n",
    "plt.pie(size, explode=explode, labels = labels, autopct='%1.1f%%', shadow=True, startangle=90, textprops={'color':'white'})\n",
    "plt.legend(labels, loc=\"best\")\n",
    "plt.axis('equal')\n",
    "\n",
    "plt.suptitle('Proportions- Customers vs. Subscribers', y=1.05, df['start_station_name'].value_counts()=20, fontweight='bold');"
   ]
  },
  {
   "cell_type": "markdown",
   "metadata": {
    "slideshow": {
     "slide_type": "subslide"
    }
   },
   "source": [
    "In the Above Pie Chart, It can cearly see that more then 85% are Subscribers who took rides."
   ]
  },
  {
   "cell_type": "code",
   "execution_count": 157,
   "metadata": {},
   "outputs": [
    {
     "data": {
      "text/html": [
       "<div>\n",
       "<style scoped>\n",
       "    .dataframe tbody tr th:only-of-type {\n",
       "        vertical-align: middle;\n",
       "    }\n",
       "\n",
       "    .dataframe tbody tr th {\n",
       "        vertical-align: top;\n",
       "    }\n",
       "\n",
       "    .dataframe thead th {\n",
       "        text-align: right;\n",
       "    }\n",
       "</style>\n",
       "<table border=\"1\" class=\"dataframe\">\n",
       "  <thead>\n",
       "    <tr style=\"text-align: right;\">\n",
       "      <th></th>\n",
       "      <th>start_time</th>\n",
       "      <th>end_time</th>\n",
       "      <th>start_station_name</th>\n",
       "      <th>end_station_name</th>\n",
       "      <th>bike_id</th>\n",
       "      <th>user_type</th>\n",
       "      <th>bike_share_for_all_trip</th>\n",
       "      <th>duration_minute</th>\n",
       "      <th>start_date</th>\n",
       "      <th>start_hour_of_day</th>\n",
       "      <th>start_day_of_week</th>\n",
       "      <th>start_month</th>\n",
       "    </tr>\n",
       "  </thead>\n",
       "  <tbody>\n",
       "    <tr>\n",
       "      <th>0</th>\n",
       "      <td>2018-02-28 23:59:47.097</td>\n",
       "      <td>2018-03-01 00:09:45.187</td>\n",
       "      <td>Yerba Buena Center for the Arts (Howard St at ...</td>\n",
       "      <td>Rhode Island St at 17th St</td>\n",
       "      <td>1035</td>\n",
       "      <td>Subscriber</td>\n",
       "      <td>No</td>\n",
       "      <td>9.966667</td>\n",
       "      <td>2018-02-28</td>\n",
       "      <td>23</td>\n",
       "      <td>Wednesday</td>\n",
       "      <td>February</td>\n",
       "    </tr>\n",
       "    <tr>\n",
       "      <th>1</th>\n",
       "      <td>2018-02-28 23:21:16.495</td>\n",
       "      <td>2018-02-28 23:36:59.974</td>\n",
       "      <td>The Embarcadero at Sansome St</td>\n",
       "      <td>Union Square (Powell St at Post St)</td>\n",
       "      <td>1673</td>\n",
       "      <td>Customer</td>\n",
       "      <td>No</td>\n",
       "      <td>15.716667</td>\n",
       "      <td>2018-02-28</td>\n",
       "      <td>23</td>\n",
       "      <td>Wednesday</td>\n",
       "      <td>February</td>\n",
       "    </tr>\n",
       "    <tr>\n",
       "      <th>4</th>\n",
       "      <td>2018-02-28 23:15:12.858</td>\n",
       "      <td>2018-02-28 23:29:58.608</td>\n",
       "      <td>San Pedro Square</td>\n",
       "      <td>Locust St at Grant St</td>\n",
       "      <td>1839</td>\n",
       "      <td>Subscriber</td>\n",
       "      <td>Yes</td>\n",
       "      <td>14.750000</td>\n",
       "      <td>2018-02-28</td>\n",
       "      <td>23</td>\n",
       "      <td>Wednesday</td>\n",
       "      <td>February</td>\n",
       "    </tr>\n",
       "    <tr>\n",
       "      <th>5</th>\n",
       "      <td>2018-02-28 23:14:19.170</td>\n",
       "      <td>2018-02-28 23:29:40.437</td>\n",
       "      <td>San Jose Diridon Station</td>\n",
       "      <td>Mission St at 1st St</td>\n",
       "      <td>2656</td>\n",
       "      <td>Customer</td>\n",
       "      <td>No</td>\n",
       "      <td>15.350000</td>\n",
       "      <td>2018-02-28</td>\n",
       "      <td>23</td>\n",
       "      <td>Wednesday</td>\n",
       "      <td>February</td>\n",
       "    </tr>\n",
       "    <tr>\n",
       "      <th>6</th>\n",
       "      <td>2018-02-28 23:21:49.274</td>\n",
       "      <td>2018-02-28 23:26:27.222</td>\n",
       "      <td>San Salvador St at 1st St</td>\n",
       "      <td>San Fernando St at 4th St</td>\n",
       "      <td>1616</td>\n",
       "      <td>Subscriber</td>\n",
       "      <td>No</td>\n",
       "      <td>4.616667</td>\n",
       "      <td>2018-02-28</td>\n",
       "      <td>23</td>\n",
       "      <td>Wednesday</td>\n",
       "      <td>February</td>\n",
       "    </tr>\n",
       "  </tbody>\n",
       "</table>\n",
       "</div>"
      ],
      "text/plain": [
       "               start_time                end_time  \\\n",
       "0 2018-02-28 23:59:47.097 2018-03-01 00:09:45.187   \n",
       "1 2018-02-28 23:21:16.495 2018-02-28 23:36:59.974   \n",
       "4 2018-02-28 23:15:12.858 2018-02-28 23:29:58.608   \n",
       "5 2018-02-28 23:14:19.170 2018-02-28 23:29:40.437   \n",
       "6 2018-02-28 23:21:49.274 2018-02-28 23:26:27.222   \n",
       "\n",
       "                                  start_station_name  \\\n",
       "0  Yerba Buena Center for the Arts (Howard St at ...   \n",
       "1                      The Embarcadero at Sansome St   \n",
       "4                                   San Pedro Square   \n",
       "5                           San Jose Diridon Station   \n",
       "6                          San Salvador St at 1st St   \n",
       "\n",
       "                      end_station_name bike_id   user_type  \\\n",
       "0           Rhode Island St at 17th St    1035  Subscriber   \n",
       "1  Union Square (Powell St at Post St)    1673    Customer   \n",
       "4                Locust St at Grant St    1839  Subscriber   \n",
       "5                 Mission St at 1st St    2656    Customer   \n",
       "6            San Fernando St at 4th St    1616  Subscriber   \n",
       "\n",
       "  bike_share_for_all_trip  duration_minute  start_date start_hour_of_day  \\\n",
       "0                      No         9.966667  2018-02-28                23   \n",
       "1                      No        15.716667  2018-02-28                23   \n",
       "4                     Yes        14.750000  2018-02-28                23   \n",
       "5                      No        15.350000  2018-02-28                23   \n",
       "6                      No         4.616667  2018-02-28                23   \n",
       "\n",
       "  start_day_of_week start_month  \n",
       "0         Wednesday    February  \n",
       "1         Wednesday    February  \n",
       "4         Wednesday    February  \n",
       "5         Wednesday    February  \n",
       "6         Wednesday    February  "
      ]
     },
     "execution_count": 157,
     "metadata": {},
     "output_type": "execute_result"
    }
   ],
   "source": [
    "df_clean.head()"
   ]
  },
  {
   "cell_type": "markdown",
   "metadata": {
    "slideshow": {
     "slide_type": "slide"
    }
   },
   "source": [
    "**Now, let's have look towards The Most Popular Station Where Rider's Took more rides.**"
   ]
  },
  {
   "cell_type": "code",
   "execution_count": 194,
   "metadata": {},
   "outputs": [
    {
     "data": {
      "text/plain": [
       "['Laguna St at McAllister St',\n",
       " 'Masonic Ave at Turk St',\n",
       " 'Williams Ave at Apollo St',\n",
       " 'Willow St at Vine St',\n",
       " 'Lane St at Van Dyke Ave',\n",
       " 'William St at 4th St (Temporary Location)',\n",
       " 'Williams Ave at 3rd St',\n",
       " 'Viva Calle SJ',\n",
       " 'Farnam St at Fruitvale Ave',\n",
       " '2nd St at S Park St']"
      ]
     },
     "execution_count": 194,
     "metadata": {},
     "output_type": "execute_result"
    }
   ],
   "source": [
    "df_clean['start_station_name'].value_counts().tail(10).index.tolist()"
   ]
  },
  {
   "cell_type": "code",
   "execution_count": 185,
   "metadata": {
    "slideshow": {
     "slide_type": "subslide"
    }
   },
   "outputs": [
    {
     "data": {
      "image/png": "[encoded data removed]",
      "text/plain": [
       "<Figure size 576x360 with 1 Axes>"
      ]
     },
     "metadata": {},
     "output_type": "display_data"
    }
   ],
   "source": [
    "top_used_cities = df_clean['start_station_name'].value_counts().head(10).index.tolist()\n",
    "plt.figure(figsize=(8,5))\n",
    "\n",
    "sb.countplot(data=df_clean, x='start_station_name', color=base_color, order=top_used_cities)\n",
    "plt.suptitle('Top 10 Most Popular Stations ', fontsize=20)\n",
    "plt.xlabel('Station Names', fontsize=15)\n",
    "plt.ylabel('Total Riders', fontsize=15)\n",
    "plt.xticks(rotation=90);"
   ]
  },
  {
   "cell_type": "markdown",
   "metadata": {
    "slideshow": {
     "slide_type": "slide"
    }
   },
   "source": [
    "**Draw Top 10 least used Station from where very less riders took rides**"
   ]
  },
  {
   "cell_type": "code",
   "execution_count": 192,
   "metadata": {
    "slideshow": {
     "slide_type": "subslide"
    }
   },
   "outputs": [
    {
     "data": {
      "image/png": "[encoded data removed]",
      "text/plain": [
       "<Figure size 576x360 with 1 Axes>"
      ]
     },
     "metadata": {},
     "output_type": "display_data"
    }
   ],
   "source": [
    "top_used_cities = df_clean['start_station_name'].value_counts().tail(10).index.tolist()\n",
    "plt.figure(figsize=(8,5))\n",
    "sb.countplot(data=df_clean, x='start_station_name', color=base_color, order=top_used_cities)\n",
    "plt.suptitle('Least Used Stations', fontsize=20)\n",
    "plt.xlabel('Station Names', fontsize=15)\n",
    "plt.ylabel('Total Riders', fontsize=15)\n",
    "plt.xticks(rotation=90);"
   ]
  },
  {
   "cell_type": "markdown",
   "metadata": {
    "slideshow": {
     "slide_type": "subslide"
    }
   },
   "source": [
    "There are still Some Stations that can be seen in the above graph where the number of riders were very low like bellow 100."
   ]
  },
  {
   "cell_type": "markdown",
   "metadata": {
    "slideshow": {
     "slide_type": "slide"
    }
   },
   "source": [
    "### Talk about some of the relationships you observed in this part of the investigation. How did the feature(s) of interest vary with other features in the dataset?\n",
    "\n",
    "- Firstly, The Number of Subscribers are more then number of customers. About 80% users are those who had subsucription from comapny.\n",
    "- There were more long duration trips on weekedns then Week days.\n",
    "- The number of riders are more in weekdays then weedays.\n",
    "- San Francisco Caltrain Station 2  (Townsend St at 4th St) is the most popular station where most of the riders took rides.\n",
    "- 2nd St at S Park St is the least popular station and very few riders use this service in this area. It is observed that less then 20 riders only start their journy from this station in 2018\n",
    "\n",
    "\n",
    "\n",
    "### Did you observe any interesting relationships between the other features (not the main feature(s) of interest)?\n",
    "\n",
    "> It's an interesting fact that the Subscribed users are more older than Customers. And the October was the month when more riders took rides in the year 2018."
   ]
  },
  {
   "cell_type": "markdown",
   "metadata": {
    "slideshow": {
     "slide_type": "slide"
    }
   },
   "source": [
    "## Multivariate Exploration\n",
    "\n",
    "> Create plots of three or more variables to investigate your data even\n",
    "further. Make sure that your investigations are justified, and follow from\n",
    "your work in the previous sections."
   ]
  },
  {
   "cell_type": "code",
   "execution_count": 196,
   "metadata": {
    "slideshow": {
     "slide_type": "skip"
    }
   },
   "outputs": [
    {
     "data": {
      "text/html": [
       "<div>\n",
       "<style scoped>\n",
       "    .dataframe tbody tr th:only-of-type {\n",
       "        vertical-align: middle;\n",
       "    }\n",
       "\n",
       "    .dataframe tbody tr th {\n",
       "        vertical-align: top;\n",
       "    }\n",
       "\n",
       "    .dataframe thead th {\n",
       "        text-align: right;\n",
       "    }\n",
       "</style>\n",
       "<table border=\"1\" class=\"dataframe\">\n",
       "  <thead>\n",
       "    <tr style=\"text-align: right;\">\n",
       "      <th></th>\n",
       "      <th>start_time</th>\n",
       "      <th>end_time</th>\n",
       "      <th>start_station_name</th>\n",
       "      <th>end_station_name</th>\n",
       "      <th>bike_id</th>\n",
       "      <th>user_type</th>\n",
       "      <th>bike_share_for_all_trip</th>\n",
       "      <th>duration_minute</th>\n",
       "      <th>start_date</th>\n",
       "      <th>start_hour_of_day</th>\n",
       "      <th>start_day_of_week</th>\n",
       "      <th>start_month</th>\n",
       "    </tr>\n",
       "  </thead>\n",
       "  <tbody>\n",
       "    <tr>\n",
       "      <th>0</th>\n",
       "      <td>2018-02-28 23:59:47.097</td>\n",
       "      <td>2018-03-01 00:09:45.187</td>\n",
       "      <td>Yerba Buena Center for the Arts (Howard St at ...</td>\n",
       "      <td>Rhode Island St at 17th St</td>\n",
       "      <td>1035</td>\n",
       "      <td>Subscriber</td>\n",
       "      <td>No</td>\n",
       "      <td>9.966667</td>\n",
       "      <td>2018-02-28</td>\n",
       "      <td>23</td>\n",
       "      <td>Wednesday</td>\n",
       "      <td>February</td>\n",
       "    </tr>\n",
       "    <tr>\n",
       "      <th>1</th>\n",
       "      <td>2018-02-28 23:21:16.495</td>\n",
       "      <td>2018-02-28 23:36:59.974</td>\n",
       "      <td>The Embarcadero at Sansome St</td>\n",
       "      <td>Union Square (Powell St at Post St)</td>\n",
       "      <td>1673</td>\n",
       "      <td>Customer</td>\n",
       "      <td>No</td>\n",
       "      <td>15.716667</td>\n",
       "      <td>2018-02-28</td>\n",
       "      <td>23</td>\n",
       "      <td>Wednesday</td>\n",
       "      <td>February</td>\n",
       "    </tr>\n",
       "    <tr>\n",
       "      <th>4</th>\n",
       "      <td>2018-02-28 23:15:12.858</td>\n",
       "      <td>2018-02-28 23:29:58.608</td>\n",
       "      <td>San Pedro Square</td>\n",
       "      <td>Locust St at Grant St</td>\n",
       "      <td>1839</td>\n",
       "      <td>Subscriber</td>\n",
       "      <td>Yes</td>\n",
       "      <td>14.750000</td>\n",
       "      <td>2018-02-28</td>\n",
       "      <td>23</td>\n",
       "      <td>Wednesday</td>\n",
       "      <td>February</td>\n",
       "    </tr>\n",
       "    <tr>\n",
       "      <th>5</th>\n",
       "      <td>2018-02-28 23:14:19.170</td>\n",
       "      <td>2018-02-28 23:29:40.437</td>\n",
       "      <td>San Jose Diridon Station</td>\n",
       "      <td>Mission St at 1st St</td>\n",
       "      <td>2656</td>\n",
       "      <td>Customer</td>\n",
       "      <td>No</td>\n",
       "      <td>15.350000</td>\n",
       "      <td>2018-02-28</td>\n",
       "      <td>23</td>\n",
       "      <td>Wednesday</td>\n",
       "      <td>February</td>\n",
       "    </tr>\n",
       "    <tr>\n",
       "      <th>6</th>\n",
       "      <td>2018-02-28 23:21:49.274</td>\n",
       "      <td>2018-02-28 23:26:27.222</td>\n",
       "      <td>San Salvador St at 1st St</td>\n",
       "      <td>San Fernando St at 4th St</td>\n",
       "      <td>1616</td>\n",
       "      <td>Subscriber</td>\n",
       "      <td>No</td>\n",
       "      <td>4.616667</td>\n",
       "      <td>2018-02-28</td>\n",
       "      <td>23</td>\n",
       "      <td>Wednesday</td>\n",
       "      <td>February</td>\n",
       "    </tr>\n",
       "  </tbody>\n",
       "</table>\n",
       "</div>"
      ],
      "text/plain": [
       "               start_time                end_time  \\\n",
       "0 2018-02-28 23:59:47.097 2018-03-01 00:09:45.187   \n",
       "1 2018-02-28 23:21:16.495 2018-02-28 23:36:59.974   \n",
       "4 2018-02-28 23:15:12.858 2018-02-28 23:29:58.608   \n",
       "5 2018-02-28 23:14:19.170 2018-02-28 23:29:40.437   \n",
       "6 2018-02-28 23:21:49.274 2018-02-28 23:26:27.222   \n",
       "\n",
       "                                  start_station_name  \\\n",
       "0  Yerba Buena Center for the Arts (Howard St at ...   \n",
       "1                      The Embarcadero at Sansome St   \n",
       "4                                   San Pedro Square   \n",
       "5                           San Jose Diridon Station   \n",
       "6                          San Salvador St at 1st St   \n",
       "\n",
       "                      end_station_name bike_id   user_type  \\\n",
       "0           Rhode Island St at 17th St    1035  Subscriber   \n",
       "1  Union Square (Powell St at Post St)    1673    Customer   \n",
       "4                Locust St at Grant St    1839  Subscriber   \n",
       "5                 Mission St at 1st St    2656    Customer   \n",
       "6            San Fernando St at 4th St    1616  Subscriber   \n",
       "\n",
       "  bike_share_for_all_trip  duration_minute  start_date start_hour_of_day  \\\n",
       "0                      No         9.966667  2018-02-28                23   \n",
       "1                      No        15.716667  2018-02-28                23   \n",
       "4                     Yes        14.750000  2018-02-28                23   \n",
       "5                      No        15.350000  2018-02-28                23   \n",
       "6                      No         4.616667  2018-02-28                23   \n",
       "\n",
       "  start_day_of_week start_month  \n",
       "0         Wednesday    February  \n",
       "1         Wednesday    February  \n",
       "4         Wednesday    February  \n",
       "5         Wednesday    February  \n",
       "6         Wednesday    February  "
      ]
     },
     "execution_count": 196,
     "metadata": {},
     "output_type": "execute_result"
    }
   ],
   "source": [
    "df_clean.head()"
   ]
  },
  {
   "cell_type": "code",
   "execution_count": null,
   "metadata": {
    "slideshow": {
     "slide_type": "skip"
    }
   },
   "outputs": [],
   "source": []
  },
  {
   "cell_type": "code",
   "execution_count": 214,
   "metadata": {
    "slideshow": {
     "slide_type": "slide"
    }
   },
   "outputs": [
    {
     "data": {
      "image/png": "[encoded data removed]",
      "text/plain": [
       "<Figure size 864x576 with 2 Axes>"
      ]
     },
     "metadata": {},
     "output_type": "display_data"
    }
   ],
   "source": [
    "df_clean['start_day_of_week'] = pd.Categorical(df_clean['start_day_of_week'], categories= days_order, ordered=True);\n",
    "\n",
    "plt.figure(figsize=(12,8))\n",
    "\n",
    "# Heatmap - Customers\n",
    "\n",
    "customers = df_clean.query('user_type == \"Customer\"').groupby(['start_hour_of_day', 'start_day_of_week'])['bike_id'].size().reset_index();\n",
    "customers = customers.pivot('start_hour_of_day', 'start_day_of_week', 'bike_id')\n",
    "\n",
    "heat_map = sb.heatmap(customers, cmap = 'twilight')\n",
    "\n",
    "plt.title('Total Customers in Week Days with Week hours.', y=1.05, fontsize=20)\n",
    "plt.xlabel('Weekday', fontsize=15)\n",
    "plt.ylabel('Start Time Hour',  fontsize=15)\n",
    "\n",
    "plt.show()\n"
   ]
  },
  {
   "cell_type": "code",
   "execution_count": 215,
   "metadata": {
    "slideshow": {
     "slide_type": "slide"
    }
   },
   "outputs": [
    {
     "data": {
      "image/png": "[encoded data removed]",
      "text/plain": [
       "<Figure size 864x576 with 2 Axes>"
      ]
     },
     "metadata": {},
     "output_type": "display_data"
    }
   ],
   "source": [
    "\n",
    "plt.figure(figsize=(12,8))\n",
    "\n",
    "# Heatmap - Customers\n",
    "\n",
    "subscribers = df_clean.query('user_type == \"Subscriber\"').groupby(['start_hour_of_day', 'start_day_of_week'])['bike_id'].size().reset_index();\n",
    "subscribers = subscribers.pivot('start_hour_of_day', 'start_day_of_week', 'bike_id')\n",
    "\n",
    "heat_map = sb.heatmap(subscribers, cmap = 'twilight')\n",
    "\n",
    "plt.title('Total Subscribers in weekdays and hours', y=1.05, fontsize=20)\n",
    "plt.xlabel('Weekday', fontsize=15)\n",
    "plt.ylabel('Start Time Hour',  fontsize=15)\n",
    "\n",
    "plt.show()\n"
   ]
  },
  {
   "cell_type": "markdown",
   "metadata": {
    "slideshow": {
     "slide_type": "slide"
    }
   },
   "source": [
    "The Above draw two different heatmaps 1 for customers and others for Subscribers which shews usage pattren for two different rider types. It can be seen clearly that Subscribers heavily use rides on Weekdays whereas the Customers mostly use rides on Weekends. \n",
    "If we talk about timing which are most popular in both categories, we can say that Subscribers mostly use it to commute to office in the morning and in the evening 7:00 -9:00 and 16:00 -18:00 respectively. Whereas, use 10:00 to 17:00 on weekend respectively."
   ]
  },
  {
   "cell_type": "markdown",
   "metadata": {
    "slideshow": {
     "slide_type": "slide"
    }
   },
   "source": [
    "### Talk about some of the relationships you observed in this part of the investigation. Were there features that strengthened each other in terms of looking at your feature(s) of interest?\n",
    "> The Above draw two different heatmaps 1 for customers and others for Subscribers which shews usage pattren for two different rider types. It can be seen clearly that Subscribers heavily use rides on Weekdays whereas the Customers mostly use rides on Weekends. If we talk about timing which are most popular in both categories, we can say that Subscribers mostly use it to commute to office in the morning and in the evening 7:00 -9:00 and 16:00 -18:00 respectively. Whereas, use 10:00 to 17:00 on weekend respectively.\n",
    "\n",
    "### Were there any interesting or surprising interactions between features?\n",
    "\n",
    ">  Trip Duration was only surprising throughout the dataset. Becouse all duration were in a single bin when I initially draw them. Then I've to zoom them to see the clear picure of ride duration."
   ]
  },
  {
   "cell_type": "code",
   "execution_count": null,
   "metadata": {
    "slideshow": {
     "slide_type": "skip"
    }
   },
   "outputs": [],
   "source": []
  }
 ],
 "metadata": {
  "celltoolbar": "Slideshow",
  "kernelspec": {
   "display_name": "Python 3",
   "language": "python",
   "name": "python3"
  },
  "language_info": {
   "codemirror_mode": {
    "name": "ipython",
    "version": 3
   },
   "file_extension": ".py",
   "mimetype": "text/x-python",
   "name": "python",
   "nbconvert_exporter": "python",
   "pygments_lexer": "ipython3",
   "version": "3.7.7"
  }
 },
 "nbformat": 4,
 "nbformat_minor": 2
}
